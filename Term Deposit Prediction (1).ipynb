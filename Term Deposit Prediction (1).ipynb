{
 "cells": [
  {
   "cell_type": "code",
   "execution_count": 1,
   "metadata": {},
   "outputs": [],
   "source": [
    "#importing libraries\n",
    "import pandas as pd\n",
    "import numpy as np\n",
    "import seaborn as sns\n",
    "import matplotlib.pyplot as plt\n",
    "import statsmodels.api as sm\n",
    "from sklearn.preprocessing import StandardScaler, LabelEncoder\n",
    "from sklearn.model_selection import train_test_split, GridSearchCV\n",
    "from sklearn.decomposition import PCA\n",
    "from imblearn.over_sampling import SMOTE\n",
    "from sklearn.metrics import confusion_matrix, accuracy_score, precision_score, recall_score, f1_score\n",
    "from sklearn.linear_model import LogisticRegression\n",
    "from sklearn.tree import DecisionTreeClassifier\n",
    "from sklearn.ensemble import RandomForestClassifier, AdaBoostClassifier, GradientBoostingClassifier\n",
    "from sklearn.neighbors import KNeighborsClassifier\n",
    "from sklearn.svm import SVC, \n",
    "from xgboost import XGBClassifier\n",
    "%matplotlib inline\n",
    "pd.pandas.set_option('display.max_columns', None)"
   ]
  },
  {
   "cell_type": "code",
   "execution_count": 2,
   "metadata": {},
   "outputs": [],
   "source": [
    "#reading data sets\n",
    "df_train = pd.read_csv('train.csv')\n",
    "df_test = pd.read_csv('test.csv')"
   ]
  },
  {
   "cell_type": "code",
   "execution_count": 3,
   "metadata": {},
   "outputs": [
    {
     "data": {
      "text/html": [
       "<div>\n",
       "<style scoped>\n",
       "    .dataframe tbody tr th:only-of-type {\n",
       "        vertical-align: middle;\n",
       "    }\n",
       "\n",
       "    .dataframe tbody tr th {\n",
       "        vertical-align: top;\n",
       "    }\n",
       "\n",
       "    .dataframe thead th {\n",
       "        text-align: right;\n",
       "    }\n",
       "</style>\n",
       "<table border=\"1\" class=\"dataframe\">\n",
       "  <thead>\n",
       "    <tr style=\"text-align: right;\">\n",
       "      <th></th>\n",
       "      <th>ID</th>\n",
       "      <th>age</th>\n",
       "      <th>job</th>\n",
       "      <th>marital</th>\n",
       "      <th>education</th>\n",
       "      <th>default</th>\n",
       "      <th>balance</th>\n",
       "      <th>housing</th>\n",
       "      <th>loan</th>\n",
       "      <th>contact</th>\n",
       "      <th>day</th>\n",
       "      <th>month</th>\n",
       "      <th>duration</th>\n",
       "      <th>campaign</th>\n",
       "      <th>pdays</th>\n",
       "      <th>previous</th>\n",
       "      <th>poutcome</th>\n",
       "      <th>subscribed</th>\n",
       "    </tr>\n",
       "  </thead>\n",
       "  <tbody>\n",
       "    <tr>\n",
       "      <th>0</th>\n",
       "      <td>26110</td>\n",
       "      <td>56</td>\n",
       "      <td>admin.</td>\n",
       "      <td>married</td>\n",
       "      <td>unknown</td>\n",
       "      <td>no</td>\n",
       "      <td>1933</td>\n",
       "      <td>no</td>\n",
       "      <td>no</td>\n",
       "      <td>telephone</td>\n",
       "      <td>19</td>\n",
       "      <td>nov</td>\n",
       "      <td>44</td>\n",
       "      <td>2</td>\n",
       "      <td>-1</td>\n",
       "      <td>0</td>\n",
       "      <td>unknown</td>\n",
       "      <td>no</td>\n",
       "    </tr>\n",
       "    <tr>\n",
       "      <th>1</th>\n",
       "      <td>40576</td>\n",
       "      <td>31</td>\n",
       "      <td>unknown</td>\n",
       "      <td>married</td>\n",
       "      <td>secondary</td>\n",
       "      <td>no</td>\n",
       "      <td>3</td>\n",
       "      <td>no</td>\n",
       "      <td>no</td>\n",
       "      <td>cellular</td>\n",
       "      <td>20</td>\n",
       "      <td>jul</td>\n",
       "      <td>91</td>\n",
       "      <td>2</td>\n",
       "      <td>-1</td>\n",
       "      <td>0</td>\n",
       "      <td>unknown</td>\n",
       "      <td>no</td>\n",
       "    </tr>\n",
       "    <tr>\n",
       "      <th>2</th>\n",
       "      <td>15320</td>\n",
       "      <td>27</td>\n",
       "      <td>services</td>\n",
       "      <td>married</td>\n",
       "      <td>secondary</td>\n",
       "      <td>no</td>\n",
       "      <td>891</td>\n",
       "      <td>yes</td>\n",
       "      <td>no</td>\n",
       "      <td>cellular</td>\n",
       "      <td>18</td>\n",
       "      <td>jul</td>\n",
       "      <td>240</td>\n",
       "      <td>1</td>\n",
       "      <td>-1</td>\n",
       "      <td>0</td>\n",
       "      <td>unknown</td>\n",
       "      <td>no</td>\n",
       "    </tr>\n",
       "    <tr>\n",
       "      <th>3</th>\n",
       "      <td>43962</td>\n",
       "      <td>57</td>\n",
       "      <td>management</td>\n",
       "      <td>divorced</td>\n",
       "      <td>tertiary</td>\n",
       "      <td>no</td>\n",
       "      <td>3287</td>\n",
       "      <td>no</td>\n",
       "      <td>no</td>\n",
       "      <td>cellular</td>\n",
       "      <td>22</td>\n",
       "      <td>jun</td>\n",
       "      <td>867</td>\n",
       "      <td>1</td>\n",
       "      <td>84</td>\n",
       "      <td>3</td>\n",
       "      <td>success</td>\n",
       "      <td>yes</td>\n",
       "    </tr>\n",
       "    <tr>\n",
       "      <th>4</th>\n",
       "      <td>29842</td>\n",
       "      <td>31</td>\n",
       "      <td>technician</td>\n",
       "      <td>married</td>\n",
       "      <td>secondary</td>\n",
       "      <td>no</td>\n",
       "      <td>119</td>\n",
       "      <td>yes</td>\n",
       "      <td>no</td>\n",
       "      <td>cellular</td>\n",
       "      <td>4</td>\n",
       "      <td>feb</td>\n",
       "      <td>380</td>\n",
       "      <td>1</td>\n",
       "      <td>-1</td>\n",
       "      <td>0</td>\n",
       "      <td>unknown</td>\n",
       "      <td>no</td>\n",
       "    </tr>\n",
       "  </tbody>\n",
       "</table>\n",
       "</div>"
      ],
      "text/plain": [
       "      ID  age         job   marital  education default  balance housing loan  \\\n",
       "0  26110   56      admin.   married    unknown      no     1933      no   no   \n",
       "1  40576   31     unknown   married  secondary      no        3      no   no   \n",
       "2  15320   27    services   married  secondary      no      891     yes   no   \n",
       "3  43962   57  management  divorced   tertiary      no     3287      no   no   \n",
       "4  29842   31  technician   married  secondary      no      119     yes   no   \n",
       "\n",
       "     contact  day month  duration  campaign  pdays  previous poutcome  \\\n",
       "0  telephone   19   nov        44         2     -1         0  unknown   \n",
       "1   cellular   20   jul        91         2     -1         0  unknown   \n",
       "2   cellular   18   jul       240         1     -1         0  unknown   \n",
       "3   cellular   22   jun       867         1     84         3  success   \n",
       "4   cellular    4   feb       380         1     -1         0  unknown   \n",
       "\n",
       "  subscribed  \n",
       "0         no  \n",
       "1         no  \n",
       "2         no  \n",
       "3        yes  \n",
       "4         no  "
      ]
     },
     "execution_count": 3,
     "metadata": {},
     "output_type": "execute_result"
    }
   ],
   "source": [
    "#train data\n",
    "df_train.head()"
   ]
  },
  {
   "cell_type": "code",
   "execution_count": 4,
   "metadata": {},
   "outputs": [
    {
     "data": {
      "text/html": [
       "<div>\n",
       "<style scoped>\n",
       "    .dataframe tbody tr th:only-of-type {\n",
       "        vertical-align: middle;\n",
       "    }\n",
       "\n",
       "    .dataframe tbody tr th {\n",
       "        vertical-align: top;\n",
       "    }\n",
       "\n",
       "    .dataframe thead th {\n",
       "        text-align: right;\n",
       "    }\n",
       "</style>\n",
       "<table border=\"1\" class=\"dataframe\">\n",
       "  <thead>\n",
       "    <tr style=\"text-align: right;\">\n",
       "      <th></th>\n",
       "      <th>ID</th>\n",
       "      <th>age</th>\n",
       "      <th>job</th>\n",
       "      <th>marital</th>\n",
       "      <th>education</th>\n",
       "      <th>default</th>\n",
       "      <th>balance</th>\n",
       "      <th>housing</th>\n",
       "      <th>loan</th>\n",
       "      <th>contact</th>\n",
       "      <th>day</th>\n",
       "      <th>month</th>\n",
       "      <th>duration</th>\n",
       "      <th>campaign</th>\n",
       "      <th>pdays</th>\n",
       "      <th>previous</th>\n",
       "      <th>poutcome</th>\n",
       "    </tr>\n",
       "  </thead>\n",
       "  <tbody>\n",
       "    <tr>\n",
       "      <th>0</th>\n",
       "      <td>38441</td>\n",
       "      <td>32</td>\n",
       "      <td>services</td>\n",
       "      <td>married</td>\n",
       "      <td>secondary</td>\n",
       "      <td>no</td>\n",
       "      <td>118</td>\n",
       "      <td>yes</td>\n",
       "      <td>no</td>\n",
       "      <td>cellular</td>\n",
       "      <td>15</td>\n",
       "      <td>may</td>\n",
       "      <td>20</td>\n",
       "      <td>6</td>\n",
       "      <td>-1</td>\n",
       "      <td>0</td>\n",
       "      <td>unknown</td>\n",
       "    </tr>\n",
       "    <tr>\n",
       "      <th>1</th>\n",
       "      <td>40403</td>\n",
       "      <td>78</td>\n",
       "      <td>retired</td>\n",
       "      <td>divorced</td>\n",
       "      <td>primary</td>\n",
       "      <td>no</td>\n",
       "      <td>2787</td>\n",
       "      <td>no</td>\n",
       "      <td>no</td>\n",
       "      <td>telephone</td>\n",
       "      <td>1</td>\n",
       "      <td>jul</td>\n",
       "      <td>372</td>\n",
       "      <td>1</td>\n",
       "      <td>-1</td>\n",
       "      <td>0</td>\n",
       "      <td>unknown</td>\n",
       "    </tr>\n",
       "    <tr>\n",
       "      <th>2</th>\n",
       "      <td>3709</td>\n",
       "      <td>31</td>\n",
       "      <td>self-employed</td>\n",
       "      <td>single</td>\n",
       "      <td>tertiary</td>\n",
       "      <td>no</td>\n",
       "      <td>144</td>\n",
       "      <td>yes</td>\n",
       "      <td>no</td>\n",
       "      <td>unknown</td>\n",
       "      <td>16</td>\n",
       "      <td>may</td>\n",
       "      <td>676</td>\n",
       "      <td>1</td>\n",
       "      <td>-1</td>\n",
       "      <td>0</td>\n",
       "      <td>unknown</td>\n",
       "    </tr>\n",
       "    <tr>\n",
       "      <th>3</th>\n",
       "      <td>37422</td>\n",
       "      <td>57</td>\n",
       "      <td>services</td>\n",
       "      <td>single</td>\n",
       "      <td>primary</td>\n",
       "      <td>no</td>\n",
       "      <td>3777</td>\n",
       "      <td>yes</td>\n",
       "      <td>no</td>\n",
       "      <td>telephone</td>\n",
       "      <td>13</td>\n",
       "      <td>may</td>\n",
       "      <td>65</td>\n",
       "      <td>2</td>\n",
       "      <td>-1</td>\n",
       "      <td>0</td>\n",
       "      <td>unknown</td>\n",
       "    </tr>\n",
       "    <tr>\n",
       "      <th>4</th>\n",
       "      <td>12527</td>\n",
       "      <td>45</td>\n",
       "      <td>blue-collar</td>\n",
       "      <td>divorced</td>\n",
       "      <td>secondary</td>\n",
       "      <td>no</td>\n",
       "      <td>-705</td>\n",
       "      <td>no</td>\n",
       "      <td>yes</td>\n",
       "      <td>unknown</td>\n",
       "      <td>3</td>\n",
       "      <td>jul</td>\n",
       "      <td>111</td>\n",
       "      <td>1</td>\n",
       "      <td>-1</td>\n",
       "      <td>0</td>\n",
       "      <td>unknown</td>\n",
       "    </tr>\n",
       "  </tbody>\n",
       "</table>\n",
       "</div>"
      ],
      "text/plain": [
       "      ID  age            job   marital  education default  balance housing  \\\n",
       "0  38441   32       services   married  secondary      no      118     yes   \n",
       "1  40403   78        retired  divorced    primary      no     2787      no   \n",
       "2   3709   31  self-employed    single   tertiary      no      144     yes   \n",
       "3  37422   57       services    single    primary      no     3777     yes   \n",
       "4  12527   45    blue-collar  divorced  secondary      no     -705      no   \n",
       "\n",
       "  loan    contact  day month  duration  campaign  pdays  previous poutcome  \n",
       "0   no   cellular   15   may        20         6     -1         0  unknown  \n",
       "1   no  telephone    1   jul       372         1     -1         0  unknown  \n",
       "2   no    unknown   16   may       676         1     -1         0  unknown  \n",
       "3   no  telephone   13   may        65         2     -1         0  unknown  \n",
       "4  yes    unknown    3   jul       111         1     -1         0  unknown  "
      ]
     },
     "execution_count": 4,
     "metadata": {},
     "output_type": "execute_result"
    }
   ],
   "source": [
    "#test data\n",
    "df_test.head()"
   ]
  },
  {
   "cell_type": "code",
   "execution_count": 5,
   "metadata": {},
   "outputs": [
    {
     "data": {
      "text/plain": [
       "((31647, 18), (13564, 17))"
      ]
     },
     "execution_count": 5,
     "metadata": {},
     "output_type": "execute_result"
    }
   ],
   "source": [
    "#shape\n",
    "df_train.shape, df_test.shape"
   ]
  },
  {
   "cell_type": "code",
   "execution_count": 6,
   "metadata": {},
   "outputs": [
    {
     "data": {
      "text/plain": [
       "Index(['ID', 'age', 'job', 'marital', 'education', 'default', 'balance',\n",
       "       'housing', 'loan', 'contact', 'day', 'month', 'duration', 'campaign',\n",
       "       'pdays', 'previous', 'poutcome', 'subscribed'],\n",
       "      dtype='object')"
      ]
     },
     "execution_count": 6,
     "metadata": {},
     "output_type": "execute_result"
    }
   ],
   "source": [
    "#Columns\n",
    "df_train.columns"
   ]
  },
  {
   "cell_type": "code",
   "execution_count": 7,
   "metadata": {},
   "outputs": [
    {
     "data": {
      "text/plain": [
       "Index(['ID', 'age', 'job', 'marital', 'education', 'default', 'balance',\n",
       "       'housing', 'loan', 'contact', 'day', 'month', 'duration', 'campaign',\n",
       "       'pdays', 'previous', 'poutcome'],\n",
       "      dtype='object')"
      ]
     },
     "execution_count": 7,
     "metadata": {},
     "output_type": "execute_result"
    }
   ],
   "source": [
    "df_test.columns"
   ]
  },
  {
   "cell_type": "code",
   "execution_count": 8,
   "metadata": {},
   "outputs": [
    {
     "data": {
      "text/html": [
       "<div>\n",
       "<style scoped>\n",
       "    .dataframe tbody tr th:only-of-type {\n",
       "        vertical-align: middle;\n",
       "    }\n",
       "\n",
       "    .dataframe tbody tr th {\n",
       "        vertical-align: top;\n",
       "    }\n",
       "\n",
       "    .dataframe thead th {\n",
       "        text-align: right;\n",
       "    }\n",
       "</style>\n",
       "<table border=\"1\" class=\"dataframe\">\n",
       "  <thead>\n",
       "    <tr style=\"text-align: right;\">\n",
       "      <th></th>\n",
       "      <th>Train</th>\n",
       "      <th>Test</th>\n",
       "    </tr>\n",
       "  </thead>\n",
       "  <tbody>\n",
       "    <tr>\n",
       "      <th>ID</th>\n",
       "      <td>int64</td>\n",
       "      <td>int64</td>\n",
       "    </tr>\n",
       "    <tr>\n",
       "      <th>age</th>\n",
       "      <td>int64</td>\n",
       "      <td>int64</td>\n",
       "    </tr>\n",
       "    <tr>\n",
       "      <th>job</th>\n",
       "      <td>object</td>\n",
       "      <td>object</td>\n",
       "    </tr>\n",
       "    <tr>\n",
       "      <th>marital</th>\n",
       "      <td>object</td>\n",
       "      <td>object</td>\n",
       "    </tr>\n",
       "    <tr>\n",
       "      <th>education</th>\n",
       "      <td>object</td>\n",
       "      <td>object</td>\n",
       "    </tr>\n",
       "    <tr>\n",
       "      <th>default</th>\n",
       "      <td>object</td>\n",
       "      <td>object</td>\n",
       "    </tr>\n",
       "    <tr>\n",
       "      <th>balance</th>\n",
       "      <td>int64</td>\n",
       "      <td>int64</td>\n",
       "    </tr>\n",
       "    <tr>\n",
       "      <th>housing</th>\n",
       "      <td>object</td>\n",
       "      <td>object</td>\n",
       "    </tr>\n",
       "    <tr>\n",
       "      <th>loan</th>\n",
       "      <td>object</td>\n",
       "      <td>object</td>\n",
       "    </tr>\n",
       "    <tr>\n",
       "      <th>contact</th>\n",
       "      <td>object</td>\n",
       "      <td>object</td>\n",
       "    </tr>\n",
       "    <tr>\n",
       "      <th>day</th>\n",
       "      <td>int64</td>\n",
       "      <td>int64</td>\n",
       "    </tr>\n",
       "    <tr>\n",
       "      <th>month</th>\n",
       "      <td>object</td>\n",
       "      <td>object</td>\n",
       "    </tr>\n",
       "    <tr>\n",
       "      <th>duration</th>\n",
       "      <td>int64</td>\n",
       "      <td>int64</td>\n",
       "    </tr>\n",
       "    <tr>\n",
       "      <th>campaign</th>\n",
       "      <td>int64</td>\n",
       "      <td>int64</td>\n",
       "    </tr>\n",
       "    <tr>\n",
       "      <th>pdays</th>\n",
       "      <td>int64</td>\n",
       "      <td>int64</td>\n",
       "    </tr>\n",
       "    <tr>\n",
       "      <th>previous</th>\n",
       "      <td>int64</td>\n",
       "      <td>int64</td>\n",
       "    </tr>\n",
       "    <tr>\n",
       "      <th>poutcome</th>\n",
       "      <td>object</td>\n",
       "      <td>object</td>\n",
       "    </tr>\n",
       "    <tr>\n",
       "      <th>subscribed</th>\n",
       "      <td>object</td>\n",
       "      <td>NaN</td>\n",
       "    </tr>\n",
       "  </tbody>\n",
       "</table>\n",
       "</div>"
      ],
      "text/plain": [
       "             Train    Test\n",
       "ID           int64   int64\n",
       "age          int64   int64\n",
       "job         object  object\n",
       "marital     object  object\n",
       "education   object  object\n",
       "default     object  object\n",
       "balance      int64   int64\n",
       "housing     object  object\n",
       "loan        object  object\n",
       "contact     object  object\n",
       "day          int64   int64\n",
       "month       object  object\n",
       "duration     int64   int64\n",
       "campaign     int64   int64\n",
       "pdays        int64   int64\n",
       "previous     int64   int64\n",
       "poutcome    object  object\n",
       "subscribed  object     NaN"
      ]
     },
     "execution_count": 8,
     "metadata": {},
     "output_type": "execute_result"
    }
   ],
   "source": [
    "#data types\n",
    "data_types_train = pd.DataFrame(df_train.dtypes, columns = ['Train'])\n",
    "data_types_test = pd.DataFrame(df_test.dtypes, columns = ['Test'])\n",
    "data_types = pd.concat([data_types_train, data_types_test], axis = 1)\n",
    "data_types"
   ]
  },
  {
   "cell_type": "code",
   "execution_count": 9,
   "metadata": {},
   "outputs": [
    {
     "data": {
      "text/html": [
       "<div>\n",
       "<style scoped>\n",
       "    .dataframe tbody tr th:only-of-type {\n",
       "        vertical-align: middle;\n",
       "    }\n",
       "\n",
       "    .dataframe tbody tr th {\n",
       "        vertical-align: top;\n",
       "    }\n",
       "\n",
       "    .dataframe thead th {\n",
       "        text-align: right;\n",
       "    }\n",
       "</style>\n",
       "<table border=\"1\" class=\"dataframe\">\n",
       "  <thead>\n",
       "    <tr style=\"text-align: right;\">\n",
       "      <th></th>\n",
       "      <th>Train</th>\n",
       "      <th>Test</th>\n",
       "    </tr>\n",
       "  </thead>\n",
       "  <tbody>\n",
       "    <tr>\n",
       "      <th>ID</th>\n",
       "      <td>0</td>\n",
       "      <td>0.0</td>\n",
       "    </tr>\n",
       "    <tr>\n",
       "      <th>age</th>\n",
       "      <td>0</td>\n",
       "      <td>0.0</td>\n",
       "    </tr>\n",
       "    <tr>\n",
       "      <th>job</th>\n",
       "      <td>0</td>\n",
       "      <td>0.0</td>\n",
       "    </tr>\n",
       "    <tr>\n",
       "      <th>marital</th>\n",
       "      <td>0</td>\n",
       "      <td>0.0</td>\n",
       "    </tr>\n",
       "    <tr>\n",
       "      <th>education</th>\n",
       "      <td>0</td>\n",
       "      <td>0.0</td>\n",
       "    </tr>\n",
       "    <tr>\n",
       "      <th>default</th>\n",
       "      <td>0</td>\n",
       "      <td>0.0</td>\n",
       "    </tr>\n",
       "    <tr>\n",
       "      <th>balance</th>\n",
       "      <td>0</td>\n",
       "      <td>0.0</td>\n",
       "    </tr>\n",
       "    <tr>\n",
       "      <th>housing</th>\n",
       "      <td>0</td>\n",
       "      <td>0.0</td>\n",
       "    </tr>\n",
       "    <tr>\n",
       "      <th>loan</th>\n",
       "      <td>0</td>\n",
       "      <td>0.0</td>\n",
       "    </tr>\n",
       "    <tr>\n",
       "      <th>contact</th>\n",
       "      <td>0</td>\n",
       "      <td>0.0</td>\n",
       "    </tr>\n",
       "    <tr>\n",
       "      <th>day</th>\n",
       "      <td>0</td>\n",
       "      <td>0.0</td>\n",
       "    </tr>\n",
       "    <tr>\n",
       "      <th>month</th>\n",
       "      <td>0</td>\n",
       "      <td>0.0</td>\n",
       "    </tr>\n",
       "    <tr>\n",
       "      <th>duration</th>\n",
       "      <td>0</td>\n",
       "      <td>0.0</td>\n",
       "    </tr>\n",
       "    <tr>\n",
       "      <th>campaign</th>\n",
       "      <td>0</td>\n",
       "      <td>0.0</td>\n",
       "    </tr>\n",
       "    <tr>\n",
       "      <th>pdays</th>\n",
       "      <td>0</td>\n",
       "      <td>0.0</td>\n",
       "    </tr>\n",
       "    <tr>\n",
       "      <th>previous</th>\n",
       "      <td>0</td>\n",
       "      <td>0.0</td>\n",
       "    </tr>\n",
       "    <tr>\n",
       "      <th>poutcome</th>\n",
       "      <td>0</td>\n",
       "      <td>0.0</td>\n",
       "    </tr>\n",
       "    <tr>\n",
       "      <th>subscribed</th>\n",
       "      <td>0</td>\n",
       "      <td>NaN</td>\n",
       "    </tr>\n",
       "  </tbody>\n",
       "</table>\n",
       "</div>"
      ],
      "text/plain": [
       "            Train  Test\n",
       "ID              0   0.0\n",
       "age             0   0.0\n",
       "job             0   0.0\n",
       "marital         0   0.0\n",
       "education       0   0.0\n",
       "default         0   0.0\n",
       "balance         0   0.0\n",
       "housing         0   0.0\n",
       "loan            0   0.0\n",
       "contact         0   0.0\n",
       "day             0   0.0\n",
       "month           0   0.0\n",
       "duration        0   0.0\n",
       "campaign        0   0.0\n",
       "pdays           0   0.0\n",
       "previous        0   0.0\n",
       "poutcome        0   0.0\n",
       "subscribed      0   NaN"
      ]
     },
     "execution_count": 9,
     "metadata": {},
     "output_type": "execute_result"
    }
   ],
   "source": [
    "#missing values\n",
    "missing_values_train = pd.DataFrame(df_train.isna().sum(), columns = ['Train'])\n",
    "missing_values_test = pd.DataFrame(df_test.isna().sum(), columns = ['Test'])\n",
    "missing_values = pd.concat([missing_values_train, missing_values_test], axis = 1)\n",
    "missing_values"
   ]
  },
  {
   "cell_type": "code",
   "execution_count": 10,
   "metadata": {},
   "outputs": [],
   "source": [
    "#Subscribers Data\n",
    "y_df = df_train[df_train['subscribed'] == 'yes']"
   ]
  },
  {
   "cell_type": "code",
   "execution_count": 11,
   "metadata": {},
   "outputs": [
    {
     "data": {
      "text/html": [
       "<div>\n",
       "<style scoped>\n",
       "    .dataframe tbody tr th:only-of-type {\n",
       "        vertical-align: middle;\n",
       "    }\n",
       "\n",
       "    .dataframe tbody tr th {\n",
       "        vertical-align: top;\n",
       "    }\n",
       "\n",
       "    .dataframe thead th {\n",
       "        text-align: right;\n",
       "    }\n",
       "</style>\n",
       "<table border=\"1\" class=\"dataframe\">\n",
       "  <thead>\n",
       "    <tr style=\"text-align: right;\">\n",
       "      <th></th>\n",
       "      <th>age</th>\n",
       "      <th>balance</th>\n",
       "      <th>duration</th>\n",
       "      <th>campaign</th>\n",
       "      <th>pdays</th>\n",
       "      <th>previous</th>\n",
       "    </tr>\n",
       "  </thead>\n",
       "  <tbody>\n",
       "    <tr>\n",
       "      <th>count</th>\n",
       "      <td>31647.000000</td>\n",
       "      <td>31647.000000</td>\n",
       "      <td>31647.000000</td>\n",
       "      <td>31647.000000</td>\n",
       "      <td>31647.000000</td>\n",
       "      <td>31647.000000</td>\n",
       "    </tr>\n",
       "    <tr>\n",
       "      <th>mean</th>\n",
       "      <td>40.957247</td>\n",
       "      <td>1363.890258</td>\n",
       "      <td>258.113534</td>\n",
       "      <td>2.765697</td>\n",
       "      <td>39.576042</td>\n",
       "      <td>0.574272</td>\n",
       "    </tr>\n",
       "    <tr>\n",
       "      <th>std</th>\n",
       "      <td>10.625134</td>\n",
       "      <td>3028.304293</td>\n",
       "      <td>257.118973</td>\n",
       "      <td>3.113830</td>\n",
       "      <td>99.317592</td>\n",
       "      <td>2.422529</td>\n",
       "    </tr>\n",
       "    <tr>\n",
       "      <th>min</th>\n",
       "      <td>18.000000</td>\n",
       "      <td>-8019.000000</td>\n",
       "      <td>0.000000</td>\n",
       "      <td>1.000000</td>\n",
       "      <td>-1.000000</td>\n",
       "      <td>0.000000</td>\n",
       "    </tr>\n",
       "    <tr>\n",
       "      <th>25%</th>\n",
       "      <td>33.000000</td>\n",
       "      <td>73.000000</td>\n",
       "      <td>104.000000</td>\n",
       "      <td>1.000000</td>\n",
       "      <td>-1.000000</td>\n",
       "      <td>0.000000</td>\n",
       "    </tr>\n",
       "    <tr>\n",
       "      <th>50%</th>\n",
       "      <td>39.000000</td>\n",
       "      <td>450.000000</td>\n",
       "      <td>180.000000</td>\n",
       "      <td>2.000000</td>\n",
       "      <td>-1.000000</td>\n",
       "      <td>0.000000</td>\n",
       "    </tr>\n",
       "    <tr>\n",
       "      <th>75%</th>\n",
       "      <td>48.000000</td>\n",
       "      <td>1431.000000</td>\n",
       "      <td>318.500000</td>\n",
       "      <td>3.000000</td>\n",
       "      <td>-1.000000</td>\n",
       "      <td>0.000000</td>\n",
       "    </tr>\n",
       "    <tr>\n",
       "      <th>max</th>\n",
       "      <td>95.000000</td>\n",
       "      <td>102127.000000</td>\n",
       "      <td>4918.000000</td>\n",
       "      <td>63.000000</td>\n",
       "      <td>871.000000</td>\n",
       "      <td>275.000000</td>\n",
       "    </tr>\n",
       "  </tbody>\n",
       "</table>\n",
       "</div>"
      ],
      "text/plain": [
       "                age        balance      duration      campaign         pdays  \\\n",
       "count  31647.000000   31647.000000  31647.000000  31647.000000  31647.000000   \n",
       "mean      40.957247    1363.890258    258.113534      2.765697     39.576042   \n",
       "std       10.625134    3028.304293    257.118973      3.113830     99.317592   \n",
       "min       18.000000   -8019.000000      0.000000      1.000000     -1.000000   \n",
       "25%       33.000000      73.000000    104.000000      1.000000     -1.000000   \n",
       "50%       39.000000     450.000000    180.000000      2.000000     -1.000000   \n",
       "75%       48.000000    1431.000000    318.500000      3.000000     -1.000000   \n",
       "max       95.000000  102127.000000   4918.000000     63.000000    871.000000   \n",
       "\n",
       "           previous  \n",
       "count  31647.000000  \n",
       "mean       0.574272  \n",
       "std        2.422529  \n",
       "min        0.000000  \n",
       "25%        0.000000  \n",
       "50%        0.000000  \n",
       "75%        0.000000  \n",
       "max      275.000000  "
      ]
     },
     "execution_count": 11,
     "metadata": {},
     "output_type": "execute_result"
    }
   ],
   "source": [
    "#Numerical Analysis\n",
    "df_train[['age', 'balance', 'duration', 'campaign', 'pdays', 'previous']].describe()"
   ]
  },
  {
   "cell_type": "code",
   "execution_count": 12,
   "metadata": {
    "scrolled": true
   },
   "outputs": [
    {
     "data": {
      "text/html": [
       "<div>\n",
       "<style scoped>\n",
       "    .dataframe tbody tr th:only-of-type {\n",
       "        vertical-align: middle;\n",
       "    }\n",
       "\n",
       "    .dataframe tbody tr th {\n",
       "        vertical-align: top;\n",
       "    }\n",
       "\n",
       "    .dataframe thead th {\n",
       "        text-align: right;\n",
       "    }\n",
       "</style>\n",
       "<table border=\"1\" class=\"dataframe\">\n",
       "  <thead>\n",
       "    <tr style=\"text-align: right;\">\n",
       "      <th></th>\n",
       "      <th>age</th>\n",
       "      <th>balance</th>\n",
       "      <th>duration</th>\n",
       "      <th>campaign</th>\n",
       "      <th>pdays</th>\n",
       "      <th>previous</th>\n",
       "    </tr>\n",
       "  </thead>\n",
       "  <tbody>\n",
       "    <tr>\n",
       "      <th>count</th>\n",
       "      <td>13564.000000</td>\n",
       "      <td>13564.000000</td>\n",
       "      <td>13564.000000</td>\n",
       "      <td>13564.000000</td>\n",
       "      <td>13564.000000</td>\n",
       "      <td>13564.000000</td>\n",
       "    </tr>\n",
       "    <tr>\n",
       "      <th>mean</th>\n",
       "      <td>40.887128</td>\n",
       "      <td>1358.496535</td>\n",
       "      <td>258.278679</td>\n",
       "      <td>2.759510</td>\n",
       "      <td>41.648555</td>\n",
       "      <td>0.594441</td>\n",
       "    </tr>\n",
       "    <tr>\n",
       "      <th>std</th>\n",
       "      <td>10.604108</td>\n",
       "      <td>3082.940623</td>\n",
       "      <td>258.488648</td>\n",
       "      <td>3.060928</td>\n",
       "      <td>101.985178</td>\n",
       "      <td>1.998193</td>\n",
       "    </tr>\n",
       "    <tr>\n",
       "      <th>min</th>\n",
       "      <td>18.000000</td>\n",
       "      <td>-3313.000000</td>\n",
       "      <td>0.000000</td>\n",
       "      <td>1.000000</td>\n",
       "      <td>-1.000000</td>\n",
       "      <td>0.000000</td>\n",
       "    </tr>\n",
       "    <tr>\n",
       "      <th>25%</th>\n",
       "      <td>33.000000</td>\n",
       "      <td>71.000000</td>\n",
       "      <td>102.000000</td>\n",
       "      <td>1.000000</td>\n",
       "      <td>-1.000000</td>\n",
       "      <td>0.000000</td>\n",
       "    </tr>\n",
       "    <tr>\n",
       "      <th>50%</th>\n",
       "      <td>39.000000</td>\n",
       "      <td>445.000000</td>\n",
       "      <td>180.000000</td>\n",
       "      <td>2.000000</td>\n",
       "      <td>-1.000000</td>\n",
       "      <td>0.000000</td>\n",
       "    </tr>\n",
       "    <tr>\n",
       "      <th>75%</th>\n",
       "      <td>48.000000</td>\n",
       "      <td>1413.250000</td>\n",
       "      <td>319.000000</td>\n",
       "      <td>3.000000</td>\n",
       "      <td>-1.000000</td>\n",
       "      <td>0.000000</td>\n",
       "    </tr>\n",
       "    <tr>\n",
       "      <th>max</th>\n",
       "      <td>95.000000</td>\n",
       "      <td>98417.000000</td>\n",
       "      <td>3253.000000</td>\n",
       "      <td>58.000000</td>\n",
       "      <td>850.000000</td>\n",
       "      <td>55.000000</td>\n",
       "    </tr>\n",
       "  </tbody>\n",
       "</table>\n",
       "</div>"
      ],
      "text/plain": [
       "                age       balance      duration      campaign         pdays  \\\n",
       "count  13564.000000  13564.000000  13564.000000  13564.000000  13564.000000   \n",
       "mean      40.887128   1358.496535    258.278679      2.759510     41.648555   \n",
       "std       10.604108   3082.940623    258.488648      3.060928    101.985178   \n",
       "min       18.000000  -3313.000000      0.000000      1.000000     -1.000000   \n",
       "25%       33.000000     71.000000    102.000000      1.000000     -1.000000   \n",
       "50%       39.000000    445.000000    180.000000      2.000000     -1.000000   \n",
       "75%       48.000000   1413.250000    319.000000      3.000000     -1.000000   \n",
       "max       95.000000  98417.000000   3253.000000     58.000000    850.000000   \n",
       "\n",
       "           previous  \n",
       "count  13564.000000  \n",
       "mean       0.594441  \n",
       "std        1.998193  \n",
       "min        0.000000  \n",
       "25%        0.000000  \n",
       "50%        0.000000  \n",
       "75%        0.000000  \n",
       "max       55.000000  "
      ]
     },
     "execution_count": 12,
     "metadata": {},
     "output_type": "execute_result"
    }
   ],
   "source": [
    "df_test[['age', 'balance', 'duration', 'campaign', 'pdays', 'previous']].describe()"
   ]
  },
  {
   "cell_type": "code",
   "execution_count": 13,
   "metadata": {},
   "outputs": [
    {
     "data": {
      "text/plain": [
       "<matplotlib.axes._subplots.AxesSubplot at 0x24679eacd48>"
      ]
     },
     "execution_count": 13,
     "metadata": {},
     "output_type": "execute_result"
    },
    {
     "data": {
      "image/png": "[encoded data removed]",
      "text/plain": [
       "<Figure size 1440x720 with 2 Axes>"
      ]
     },
     "metadata": {
      "needs_background": "light"
     },
     "output_type": "display_data"
    }
   ],
   "source": [
    "#train data correlation\n",
    "fig, ax = plt.subplots()\n",
    "fig.set_size_inches(20,10)\n",
    "sns.heatmap(df_train.corr(), vmax = 1, vmin = -1, square = False, annot = True)"
   ]
  },
  {
   "cell_type": "code",
   "execution_count": 14,
   "metadata": {
    "scrolled": true
   },
   "outputs": [
    {
     "data": {
      "text/plain": [
       "Text(0, 0.5, 'Count')"
      ]
     },
     "execution_count": 14,
     "metadata": {},
     "output_type": "execute_result"
    },
    {
     "data": {
      "image/png": "[encoded data removed]",
      "text/plain": [
       "<Figure size 432x288 with 1 Axes>"
      ]
     },
     "metadata": {
      "needs_background": "light"
     },
     "output_type": "display_data"
    }
   ],
   "source": [
    "#Subscribed\n",
    "sns.countplot(x = 'subscribed', data = df_train)\n",
    "plt.xticks(fontsize = 10, ha = \"right\")\n",
    "plt.yticks(fontsize = 10)\n",
    "plt.xlabel('Subscribed', fontsize = 15)\n",
    "plt.ylabel('Count', fontsize = 15)\n",
    "\n",
    "#12% of customers have subscribed to term deposit."
   ]
  },
  {
   "cell_type": "code",
   "execution_count": 15,
   "metadata": {},
   "outputs": [],
   "source": [
    "#bining of age for analysis\n",
    "age_group_train = []\n",
    "for i in df_train['age']:\n",
    "    if (i >= 18 and i <= 25):\n",
    "        age_group_train.append('18-25')\n",
    "    elif (i >= 26 and i <= 33):\n",
    "        age_group_train.append('26-33')\n",
    "    elif (i >= 34 and i <= 41):\n",
    "        age_group_train.append('34-41')\n",
    "    elif (i >= 42 and i <= 49):\n",
    "        age_group_train.append('42-49')\n",
    "    elif (i >= 50 and i <= 57):\n",
    "        age_group_train.append('50-57')\n",
    "    elif (i >= 58 and i <= 65):\n",
    "        age_group_train.append('58-65')\n",
    "    elif (i >= 66 and i <= 73):\n",
    "        age_group_train.append('66-73')\n",
    "    elif (i >= 74 and i <= 81):\n",
    "        age_group_train.append('74-81')\n",
    "    elif (i >= 82 and i <= 89):\n",
    "        age_group_train.append('82-89')\n",
    "    elif (i >= 90 and i <= 97):\n",
    "        age_group_train.append('90-97')\n",
    "    else:\n",
    "        pass\n",
    "df_train['age_group'] = age_group_train"
   ]
  },
  {
   "cell_type": "code",
   "execution_count": 16,
   "metadata": {
    "scrolled": true
   },
   "outputs": [
    {
     "data": {
      "text/html": [
       "<div>\n",
       "<style scoped>\n",
       "    .dataframe tbody tr th:only-of-type {\n",
       "        vertical-align: middle;\n",
       "    }\n",
       "\n",
       "    .dataframe tbody tr th {\n",
       "        vertical-align: top;\n",
       "    }\n",
       "\n",
       "    .dataframe thead th {\n",
       "        text-align: right;\n",
       "    }\n",
       "</style>\n",
       "<table border=\"1\" class=\"dataframe\">\n",
       "  <thead>\n",
       "    <tr style=\"text-align: right;\">\n",
       "      <th></th>\n",
       "      <th>ID</th>\n",
       "      <th>age</th>\n",
       "      <th>job</th>\n",
       "      <th>marital</th>\n",
       "      <th>education</th>\n",
       "      <th>default</th>\n",
       "      <th>balance</th>\n",
       "      <th>housing</th>\n",
       "      <th>loan</th>\n",
       "      <th>contact</th>\n",
       "      <th>day</th>\n",
       "      <th>month</th>\n",
       "      <th>duration</th>\n",
       "      <th>campaign</th>\n",
       "      <th>pdays</th>\n",
       "      <th>previous</th>\n",
       "      <th>poutcome</th>\n",
       "      <th>subscribed</th>\n",
       "      <th>age_group</th>\n",
       "    </tr>\n",
       "  </thead>\n",
       "  <tbody>\n",
       "    <tr>\n",
       "      <th>0</th>\n",
       "      <td>26110</td>\n",
       "      <td>56</td>\n",
       "      <td>admin.</td>\n",
       "      <td>married</td>\n",
       "      <td>unknown</td>\n",
       "      <td>no</td>\n",
       "      <td>1933</td>\n",
       "      <td>no</td>\n",
       "      <td>no</td>\n",
       "      <td>telephone</td>\n",
       "      <td>19</td>\n",
       "      <td>nov</td>\n",
       "      <td>44</td>\n",
       "      <td>2</td>\n",
       "      <td>-1</td>\n",
       "      <td>0</td>\n",
       "      <td>unknown</td>\n",
       "      <td>no</td>\n",
       "      <td>50-57</td>\n",
       "    </tr>\n",
       "    <tr>\n",
       "      <th>1</th>\n",
       "      <td>40576</td>\n",
       "      <td>31</td>\n",
       "      <td>unknown</td>\n",
       "      <td>married</td>\n",
       "      <td>secondary</td>\n",
       "      <td>no</td>\n",
       "      <td>3</td>\n",
       "      <td>no</td>\n",
       "      <td>no</td>\n",
       "      <td>cellular</td>\n",
       "      <td>20</td>\n",
       "      <td>jul</td>\n",
       "      <td>91</td>\n",
       "      <td>2</td>\n",
       "      <td>-1</td>\n",
       "      <td>0</td>\n",
       "      <td>unknown</td>\n",
       "      <td>no</td>\n",
       "      <td>26-33</td>\n",
       "    </tr>\n",
       "    <tr>\n",
       "      <th>2</th>\n",
       "      <td>15320</td>\n",
       "      <td>27</td>\n",
       "      <td>services</td>\n",
       "      <td>married</td>\n",
       "      <td>secondary</td>\n",
       "      <td>no</td>\n",
       "      <td>891</td>\n",
       "      <td>yes</td>\n",
       "      <td>no</td>\n",
       "      <td>cellular</td>\n",
       "      <td>18</td>\n",
       "      <td>jul</td>\n",
       "      <td>240</td>\n",
       "      <td>1</td>\n",
       "      <td>-1</td>\n",
       "      <td>0</td>\n",
       "      <td>unknown</td>\n",
       "      <td>no</td>\n",
       "      <td>26-33</td>\n",
       "    </tr>\n",
       "    <tr>\n",
       "      <th>3</th>\n",
       "      <td>43962</td>\n",
       "      <td>57</td>\n",
       "      <td>management</td>\n",
       "      <td>divorced</td>\n",
       "      <td>tertiary</td>\n",
       "      <td>no</td>\n",
       "      <td>3287</td>\n",
       "      <td>no</td>\n",
       "      <td>no</td>\n",
       "      <td>cellular</td>\n",
       "      <td>22</td>\n",
       "      <td>jun</td>\n",
       "      <td>867</td>\n",
       "      <td>1</td>\n",
       "      <td>84</td>\n",
       "      <td>3</td>\n",
       "      <td>success</td>\n",
       "      <td>yes</td>\n",
       "      <td>50-57</td>\n",
       "    </tr>\n",
       "    <tr>\n",
       "      <th>4</th>\n",
       "      <td>29842</td>\n",
       "      <td>31</td>\n",
       "      <td>technician</td>\n",
       "      <td>married</td>\n",
       "      <td>secondary</td>\n",
       "      <td>no</td>\n",
       "      <td>119</td>\n",
       "      <td>yes</td>\n",
       "      <td>no</td>\n",
       "      <td>cellular</td>\n",
       "      <td>4</td>\n",
       "      <td>feb</td>\n",
       "      <td>380</td>\n",
       "      <td>1</td>\n",
       "      <td>-1</td>\n",
       "      <td>0</td>\n",
       "      <td>unknown</td>\n",
       "      <td>no</td>\n",
       "      <td>26-33</td>\n",
       "    </tr>\n",
       "  </tbody>\n",
       "</table>\n",
       "</div>"
      ],
      "text/plain": [
       "      ID  age         job   marital  education default  balance housing loan  \\\n",
       "0  26110   56      admin.   married    unknown      no     1933      no   no   \n",
       "1  40576   31     unknown   married  secondary      no        3      no   no   \n",
       "2  15320   27    services   married  secondary      no      891     yes   no   \n",
       "3  43962   57  management  divorced   tertiary      no     3287      no   no   \n",
       "4  29842   31  technician   married  secondary      no      119     yes   no   \n",
       "\n",
       "     contact  day month  duration  campaign  pdays  previous poutcome  \\\n",
       "0  telephone   19   nov        44         2     -1         0  unknown   \n",
       "1   cellular   20   jul        91         2     -1         0  unknown   \n",
       "2   cellular   18   jul       240         1     -1         0  unknown   \n",
       "3   cellular   22   jun       867         1     84         3  success   \n",
       "4   cellular    4   feb       380         1     -1         0  unknown   \n",
       "\n",
       "  subscribed age_group  \n",
       "0         no     50-57  \n",
       "1         no     26-33  \n",
       "2         no     26-33  \n",
       "3        yes     50-57  \n",
       "4         no     26-33  "
      ]
     },
     "execution_count": 16,
     "metadata": {},
     "output_type": "execute_result"
    }
   ],
   "source": [
    "df_train.head()"
   ]
  },
  {
   "cell_type": "code",
   "execution_count": 17,
   "metadata": {},
   "outputs": [],
   "source": [
    "age_group_test = []\n",
    "for i in df_test['age']:\n",
    "    if (i >= 18 and i <= 25):\n",
    "        age_group_test.append('18-25')\n",
    "    elif (i >= 26 and i <= 33):\n",
    "        age_group_test.append('26-33')\n",
    "    elif (i >= 34 and i <= 41):\n",
    "        age_group_test.append('34-41')\n",
    "    elif (i >= 42 and i <= 49):\n",
    "        age_group_test.append('42-49')\n",
    "    elif (i >= 50 and i <= 57):\n",
    "        age_group_test.append('50-57')\n",
    "    elif (i >= 58 and i <= 65):\n",
    "        age_group_test.append('58-65')\n",
    "    elif (i >= 66 and i <= 73):\n",
    "        age_group_test.append('66-73')\n",
    "    elif (i >= 74 and i <= 81):\n",
    "        age_group_test.append('74-81')\n",
    "    elif (i >= 82 and i <= 89):\n",
    "        age_group_test.append('82-89')\n",
    "    elif (i >= 90 and i <= 97):\n",
    "        age_group_test.append('90-97')\n",
    "    else:\n",
    "        pass\n",
    "df_test['age_group'] = age_group_test"
   ]
  },
  {
   "cell_type": "code",
   "execution_count": 18,
   "metadata": {},
   "outputs": [
    {
     "data": {
      "text/html": [
       "<div>\n",
       "<style scoped>\n",
       "    .dataframe tbody tr th:only-of-type {\n",
       "        vertical-align: middle;\n",
       "    }\n",
       "\n",
       "    .dataframe tbody tr th {\n",
       "        vertical-align: top;\n",
       "    }\n",
       "\n",
       "    .dataframe thead th {\n",
       "        text-align: right;\n",
       "    }\n",
       "</style>\n",
       "<table border=\"1\" class=\"dataframe\">\n",
       "  <thead>\n",
       "    <tr style=\"text-align: right;\">\n",
       "      <th></th>\n",
       "      <th>ID</th>\n",
       "      <th>age</th>\n",
       "      <th>job</th>\n",
       "      <th>marital</th>\n",
       "      <th>education</th>\n",
       "      <th>default</th>\n",
       "      <th>balance</th>\n",
       "      <th>housing</th>\n",
       "      <th>loan</th>\n",
       "      <th>contact</th>\n",
       "      <th>day</th>\n",
       "      <th>month</th>\n",
       "      <th>duration</th>\n",
       "      <th>campaign</th>\n",
       "      <th>pdays</th>\n",
       "      <th>previous</th>\n",
       "      <th>poutcome</th>\n",
       "      <th>age_group</th>\n",
       "    </tr>\n",
       "  </thead>\n",
       "  <tbody>\n",
       "    <tr>\n",
       "      <th>0</th>\n",
       "      <td>38441</td>\n",
       "      <td>32</td>\n",
       "      <td>services</td>\n",
       "      <td>married</td>\n",
       "      <td>secondary</td>\n",
       "      <td>no</td>\n",
       "      <td>118</td>\n",
       "      <td>yes</td>\n",
       "      <td>no</td>\n",
       "      <td>cellular</td>\n",
       "      <td>15</td>\n",
       "      <td>may</td>\n",
       "      <td>20</td>\n",
       "      <td>6</td>\n",
       "      <td>-1</td>\n",
       "      <td>0</td>\n",
       "      <td>unknown</td>\n",
       "      <td>26-33</td>\n",
       "    </tr>\n",
       "    <tr>\n",
       "      <th>1</th>\n",
       "      <td>40403</td>\n",
       "      <td>78</td>\n",
       "      <td>retired</td>\n",
       "      <td>divorced</td>\n",
       "      <td>primary</td>\n",
       "      <td>no</td>\n",
       "      <td>2787</td>\n",
       "      <td>no</td>\n",
       "      <td>no</td>\n",
       "      <td>telephone</td>\n",
       "      <td>1</td>\n",
       "      <td>jul</td>\n",
       "      <td>372</td>\n",
       "      <td>1</td>\n",
       "      <td>-1</td>\n",
       "      <td>0</td>\n",
       "      <td>unknown</td>\n",
       "      <td>74-81</td>\n",
       "    </tr>\n",
       "    <tr>\n",
       "      <th>2</th>\n",
       "      <td>3709</td>\n",
       "      <td>31</td>\n",
       "      <td>self-employed</td>\n",
       "      <td>single</td>\n",
       "      <td>tertiary</td>\n",
       "      <td>no</td>\n",
       "      <td>144</td>\n",
       "      <td>yes</td>\n",
       "      <td>no</td>\n",
       "      <td>unknown</td>\n",
       "      <td>16</td>\n",
       "      <td>may</td>\n",
       "      <td>676</td>\n",
       "      <td>1</td>\n",
       "      <td>-1</td>\n",
       "      <td>0</td>\n",
       "      <td>unknown</td>\n",
       "      <td>26-33</td>\n",
       "    </tr>\n",
       "    <tr>\n",
       "      <th>3</th>\n",
       "      <td>37422</td>\n",
       "      <td>57</td>\n",
       "      <td>services</td>\n",
       "      <td>single</td>\n",
       "      <td>primary</td>\n",
       "      <td>no</td>\n",
       "      <td>3777</td>\n",
       "      <td>yes</td>\n",
       "      <td>no</td>\n",
       "      <td>telephone</td>\n",
       "      <td>13</td>\n",
       "      <td>may</td>\n",
       "      <td>65</td>\n",
       "      <td>2</td>\n",
       "      <td>-1</td>\n",
       "      <td>0</td>\n",
       "      <td>unknown</td>\n",
       "      <td>50-57</td>\n",
       "    </tr>\n",
       "    <tr>\n",
       "      <th>4</th>\n",
       "      <td>12527</td>\n",
       "      <td>45</td>\n",
       "      <td>blue-collar</td>\n",
       "      <td>divorced</td>\n",
       "      <td>secondary</td>\n",
       "      <td>no</td>\n",
       "      <td>-705</td>\n",
       "      <td>no</td>\n",
       "      <td>yes</td>\n",
       "      <td>unknown</td>\n",
       "      <td>3</td>\n",
       "      <td>jul</td>\n",
       "      <td>111</td>\n",
       "      <td>1</td>\n",
       "      <td>-1</td>\n",
       "      <td>0</td>\n",
       "      <td>unknown</td>\n",
       "      <td>42-49</td>\n",
       "    </tr>\n",
       "  </tbody>\n",
       "</table>\n",
       "</div>"
      ],
      "text/plain": [
       "      ID  age            job   marital  education default  balance housing  \\\n",
       "0  38441   32       services   married  secondary      no      118     yes   \n",
       "1  40403   78        retired  divorced    primary      no     2787      no   \n",
       "2   3709   31  self-employed    single   tertiary      no      144     yes   \n",
       "3  37422   57       services    single    primary      no     3777     yes   \n",
       "4  12527   45    blue-collar  divorced  secondary      no     -705      no   \n",
       "\n",
       "  loan    contact  day month  duration  campaign  pdays  previous poutcome  \\\n",
       "0   no   cellular   15   may        20         6     -1         0  unknown   \n",
       "1   no  telephone    1   jul       372         1     -1         0  unknown   \n",
       "2   no    unknown   16   may       676         1     -1         0  unknown   \n",
       "3   no  telephone   13   may        65         2     -1         0  unknown   \n",
       "4  yes    unknown    3   jul       111         1     -1         0  unknown   \n",
       "\n",
       "  age_group  \n",
       "0     26-33  \n",
       "1     74-81  \n",
       "2     26-33  \n",
       "3     50-57  \n",
       "4     42-49  "
      ]
     },
     "execution_count": 18,
     "metadata": {},
     "output_type": "execute_result"
    }
   ],
   "source": [
    "df_test.head()"
   ]
  },
  {
   "cell_type": "code",
   "execution_count": 19,
   "metadata": {
    "scrolled": false
   },
   "outputs": [
    {
     "data": {
      "text/plain": [
       "Text(0, 0.5, 'Count')"
      ]
     },
     "execution_count": 19,
     "metadata": {},
     "output_type": "execute_result"
    },
    {
     "data": {
      "image/png": "[encoded data removed]",
      "text/plain": [
       "<Figure size 720x576 with 1 Axes>"
      ]
     },
     "metadata": {
      "needs_background": "light"
     },
     "output_type": "display_data"
    }
   ],
   "source": [
    "#age group vs subscribe\n",
    "plt.figure(figsize = (10, 8))\n",
    "sns.countplot(x ='age_group', hue = 'subscribed', data = df_train)\n",
    "plt.xticks(fontsize = 10, ha = \"right\")\n",
    "plt.yticks(fontsize = 10)\n",
    "plt.xlabel('Age Group', fontsize = 15)\n",
    "plt.ylabel('Count', fontsize = 15)\n",
    "\n",
    "#28% of subscribers are between 26-33 years of age.\n",
    "#52% of subscribers are between 26-41 years of age.\n",
    "#68% of subscribers are between 26-49 years of age.\n",
    "#80% of subscribers are between 26-57 years of age."
   ]
  },
  {
   "cell_type": "code",
   "execution_count": 20,
   "metadata": {},
   "outputs": [
    {
     "data": {
      "image/png": "[encoded data removed]",
      "text/plain": [
       "<Figure size 432x288 with 1 Axes>"
      ]
     },
     "metadata": {
      "needs_background": "light"
     },
     "output_type": "display_data"
    }
   ],
   "source": [
    "#Distribution of Age\n",
    "y_df = df_train[df_train['subscribed'] == 'yes']\n",
    "sns.distplot(df_train['age'])\n",
    "sns.distplot(y_df['age'])\n",
    "plt.xticks(fontsize = 10, ha = \"right\")\n",
    "plt.yticks(fontsize = 10)\n",
    "plt.xlabel('Age', fontsize = 15)\n",
    "plt.legend(['Age', 'Subscribers Age'])\n",
    "plt.show()"
   ]
  },
  {
   "cell_type": "code",
   "execution_count": 21,
   "metadata": {},
   "outputs": [
    {
     "data": {
      "text/plain": [
       "Text(0, 0.5, 'Count')"
      ]
     },
     "execution_count": 21,
     "metadata": {},
     "output_type": "execute_result"
    },
    {
     "data": {
      "image/png": "[encoded data removed]",
      "text/plain": [
       "<Figure size 1440x1152 with 1 Axes>"
      ]
     },
     "metadata": {
      "needs_background": "light"
     },
     "output_type": "display_data"
    }
   ],
   "source": [
    "#job vs subscribers\n",
    "plt.figure(figsize = (20, 16))\n",
    "sns.countplot(x ='job', hue = 'subscribed', data = df_train)\n",
    "plt.xticks(fontsize = 10, ha = \"right\")\n",
    "plt.yticks(fontsize = 10)\n",
    "plt.xlabel('Job', fontsize = 15)\n",
    "plt.ylabel('Count', fontsize = 15)\n",
    "\n",
    "#25% of subscribers have management job.\n",
    "#41% of subscribers have management and technician jobs.\n",
    "#54% of subscribers have management, technician and blue-collar jobs.\n",
    "#66% of subscribers have management, technician, blue-collar and admin jobs.\n",
    "#76% of subscribers have either management, technician, blue-collar and admin jobs or are retired."
   ]
  },
  {
   "cell_type": "code",
   "execution_count": 22,
   "metadata": {},
   "outputs": [
    {
     "data": {
      "text/plain": [
       "Text(0, 0.5, 'Count')"
      ]
     },
     "execution_count": 22,
     "metadata": {},
     "output_type": "execute_result"
    },
    {
     "data": {
      "image/png": "[encoded data removed]",
      "text/plain": [
       "<Figure size 432x288 with 1 Axes>"
      ]
     },
     "metadata": {
      "needs_background": "light"
     },
     "output_type": "display_data"
    }
   ],
   "source": [
    "#marital status vs subscribers\n",
    "sns.countplot(x ='marital', hue = 'subscribed', data = df_train)\n",
    "plt.xticks(fontsize = 10, ha = \"right\")\n",
    "plt.yticks(fontsize = 10)\n",
    "plt.xlabel('Marital Status', fontsize = 15)\n",
    "plt.ylabel('Count', fontsize = 15)\n",
    "\n",
    "#52% of subscribers are married.\n",
    "#88% of subscribers are either married or single."
   ]
  },
  {
   "cell_type": "code",
   "execution_count": 23,
   "metadata": {},
   "outputs": [
    {
     "data": {
      "text/plain": [
       "Text(0, 0.5, 'Count')"
      ]
     },
     "execution_count": 23,
     "metadata": {},
     "output_type": "execute_result"
    },
    {
     "data": {
      "image/png": "[encoded data removed]",
      "text/plain": [
       "<Figure size 432x288 with 1 Axes>"
      ]
     },
     "metadata": {
      "needs_background": "light"
     },
     "output_type": "display_data"
    }
   ],
   "source": [
    "#education vs subscribers\n",
    "sns.countplot(x ='education', hue = 'subscribed', data = df_train)\n",
    "plt.xticks(fontsize = 10, ha = \"right\")\n",
    "plt.yticks(fontsize = 10)\n",
    "plt.xlabel('Education', fontsize = 15)\n",
    "plt.ylabel('Count', fontsize = 15)\n",
    "\n",
    "#46% of subscribers have secondary education.\n",
    "#84% of subscribers have secondary and tertiary education."
   ]
  },
  {
   "cell_type": "code",
   "execution_count": 24,
   "metadata": {},
   "outputs": [
    {
     "data": {
      "text/plain": [
       "Text(0, 0.5, 'Count')"
      ]
     },
     "execution_count": 24,
     "metadata": {},
     "output_type": "execute_result"
    },
    {
     "data": {
      "image/png": "[encoded data removed]",
      "text/plain": [
       "<Figure size 432x288 with 1 Axes>"
      ]
     },
     "metadata": {
      "needs_background": "light"
     },
     "output_type": "display_data"
    }
   ],
   "source": [
    "#default vs subscribers\n",
    "sns.countplot(x ='default', hue = 'subscribed', data = df_train)\n",
    "plt.xticks(fontsize = 10, ha = \"right\")\n",
    "plt.yticks(fontsize = 10)\n",
    "plt.xlabel('Default', fontsize = 15)\n",
    "plt.ylabel('Count', fontsize = 15)\n",
    "\n",
    "#99% of subscribers are non-defaulters."
   ]
  },
  {
   "cell_type": "code",
   "execution_count": 25,
   "metadata": {},
   "outputs": [],
   "source": [
    "#bining of balance for analysis\n",
    "balance_train = []\n",
    "for i in df_train['balance']:\n",
    "    if (i >= -14999 and i <= 0):\n",
    "        balance_train.append('Negative Balance')\n",
    "    elif (i >= 1 and i <= 15000):\n",
    "        balance_train.append('0K - 15K')\n",
    "    elif (i >= 15001 and i <= 30000):\n",
    "        balance_train.append('15K - 30K')\n",
    "    elif (i >= 30001 and i <= 45000):\n",
    "        balance_train.append('30K - 45K')\n",
    "    elif (i >= 45001 and i <= 60000):\n",
    "        balance_train.append('45K - 60K')\n",
    "    elif (i >= 60001 and i <= 75000):\n",
    "        balance_train.append('60K - 75K')\n",
    "    elif (i >= 75001 and i <= 90000):\n",
    "        balance_train.append('75K - 90K')\n",
    "    elif (i >= 90001 and i <= 105000):\n",
    "        balance_train.append('90K - 105K')\n",
    "    else:\n",
    "        pass\n",
    "df_train['balance_group'] = balance_train"
   ]
  },
  {
   "cell_type": "code",
   "execution_count": 26,
   "metadata": {},
   "outputs": [],
   "source": [
    "balance_test = []\n",
    "for i in df_test['balance']:\n",
    "    if (i >= -14999 and i <= 0):\n",
    "        balance_test.append('Negative Balance')\n",
    "    elif (i >= 1 and i <= 15000):\n",
    "        balance_test.append('0K - 15K')\n",
    "    elif (i >= 15001 and i <= 30000):\n",
    "        balance_test.append('15K - 30K')\n",
    "    elif (i >= 30001 and i <= 45000):\n",
    "        balance_test.append('30K - 45K')\n",
    "    elif (i >= 45001 and i <= 60000):\n",
    "        balance_test.append('45K - 60K')\n",
    "    elif (i >= 60001 and i <= 75000):\n",
    "        balance_test.append('60K - 75K')\n",
    "    elif (i >= 75001 and i <= 90000):\n",
    "        balance_test.append('75K - 90K')\n",
    "    elif (i >= 90001 and i <= 105000):\n",
    "        balance_test.append('90K - 105K')\n",
    "    else:\n",
    "        pass\n",
    "df_test['balance_group'] = balance_test"
   ]
  },
  {
   "cell_type": "code",
   "execution_count": 27,
   "metadata": {
    "scrolled": false
   },
   "outputs": [
    {
     "data": {
      "text/plain": [
       "<matplotlib.legend.Legend at 0x24601125d08>"
      ]
     },
     "execution_count": 27,
     "metadata": {},
     "output_type": "execute_result"
    },
    {
     "data": {
      "image/png": "[encoded data removed]",
      "text/plain": [
       "<Figure size 1440x1152 with 1 Axes>"
      ]
     },
     "metadata": {
      "needs_background": "light"
     },
     "output_type": "display_data"
    }
   ],
   "source": [
    "#balance group vs subscribe\n",
    "plt.figure(figsize = (20, 16))\n",
    "sns.countplot(x ='balance_group', hue = 'subscribed', data = df_train)\n",
    "plt.xticks(fontsize = 10, ha = \"right\")\n",
    "plt.yticks(fontsize = 10)\n",
    "plt.xlabel('Balance Group', fontsize = 15)\n",
    "plt.ylabel('Count', fontsize = 15)\n",
    "plt.legend(loc = 'upper right')\n",
    "\n",
    "#90% of the subscribers have balance between 0-15K."
   ]
  },
  {
   "cell_type": "code",
   "execution_count": 28,
   "metadata": {},
   "outputs": [
    {
     "data": {
      "image/png": "[encoded data removed]",
      "text/plain": [
       "<Figure size 432x288 with 1 Axes>"
      ]
     },
     "metadata": {
      "needs_background": "light"
     },
     "output_type": "display_data"
    }
   ],
   "source": [
    "#Balance Distribution\n",
    "sns.distplot(df_train['balance'])\n",
    "sns.distplot(y_df['balance'])\n",
    "plt.xticks(fontsize = 10, ha = \"right\")\n",
    "plt.yticks(fontsize = 10)\n",
    "plt.xlabel('Balance', fontsize = 15)\n",
    "plt.legend(['Balance', 'Subscribers Balance'])\n",
    "plt.show()"
   ]
  },
  {
   "cell_type": "code",
   "execution_count": 29,
   "metadata": {},
   "outputs": [
    {
     "data": {
      "image/png": "[encoded data removed]",
      "text/plain": [
       "<Figure size 432x288 with 1 Axes>"
      ]
     },
     "metadata": {
      "needs_background": "light"
     },
     "output_type": "display_data"
    }
   ],
   "source": [
    "#transforming Balance\n",
    "sns.distplot((df_train['balance']) ** (1/5))\n",
    "sns.distplot((y_df['balance']) ** (1/5))\n",
    "plt.xticks(fontsize = 10, ha = \"right\")\n",
    "plt.yticks(fontsize = 10)\n",
    "plt.xlabel('Balance', fontsize = 15)\n",
    "plt.legend(['Balance', 'Subscribers Balance'])\n",
    "plt.show()\n",
    "df_train['balance'] = df_train['balance'] ** (1/5)\n",
    "df_test['balance'] = df_test['balance'] ** (1/5)"
   ]
  },
  {
   "cell_type": "code",
   "execution_count": 30,
   "metadata": {},
   "outputs": [],
   "source": [
    "df_train['balance'] = df_train['balance'].fillna(df_train['balance'].mean())\n",
    "df_test['balance'] = df_test['balance'].fillna(df_test['balance'].mean())"
   ]
  },
  {
   "cell_type": "code",
   "execution_count": 31,
   "metadata": {},
   "outputs": [
    {
     "data": {
      "text/plain": [
       "Text(0, 0.5, 'Count')"
      ]
     },
     "execution_count": 31,
     "metadata": {},
     "output_type": "execute_result"
    },
    {
     "data": {
      "image/png": "[encoded data removed]",
      "text/plain": [
       "<Figure size 432x288 with 1 Axes>"
      ]
     },
     "metadata": {
      "needs_background": "light"
     },
     "output_type": "display_data"
    }
   ],
   "source": [
    "#housing vs subscribers\n",
    "sns.countplot(x ='housing', hue = 'subscribed', data = df_train)\n",
    "plt.xticks(fontsize = 10, ha = \"right\")\n",
    "plt.yticks(fontsize = 10)\n",
    "plt.xlabel('Housing Loan', fontsize = 15)\n",
    "plt.ylabel('Count', fontsize = 15)\n",
    "\n",
    "#64% of subscribers don't have housing loan."
   ]
  },
  {
   "cell_type": "code",
   "execution_count": 32,
   "metadata": {},
   "outputs": [
    {
     "data": {
      "text/plain": [
       "Text(0, 0.5, 'Count')"
      ]
     },
     "execution_count": 32,
     "metadata": {},
     "output_type": "execute_result"
    },
    {
     "data": {
      "image/png": "[encoded data removed]",
      "text/plain": [
       "<Figure size 432x288 with 1 Axes>"
      ]
     },
     "metadata": {
      "needs_background": "light"
     },
     "output_type": "display_data"
    }
   ],
   "source": [
    "#loan vs subscribers\n",
    "sns.countplot(x ='loan', hue = 'subscribed', data = df_train)\n",
    "plt.xticks(fontsize = 10, ha = \"right\")\n",
    "plt.yticks(fontsize = 10)\n",
    "plt.xlabel('Personal Loan', fontsize = 15)\n",
    "plt.ylabel('Count', fontsize = 15)\n",
    "\n",
    "#91% of subscribers don't have personal loan."
   ]
  },
  {
   "cell_type": "code",
   "execution_count": 33,
   "metadata": {
    "scrolled": true
   },
   "outputs": [
    {
     "data": {
      "text/plain": [
       "Text(0, 0.5, 'Count')"
      ]
     },
     "execution_count": 33,
     "metadata": {},
     "output_type": "execute_result"
    },
    {
     "data": {
      "image/png": "[encoded data removed]",
      "text/plain": [
       "<Figure size 432x288 with 1 Axes>"
      ]
     },
     "metadata": {
      "needs_background": "light"
     },
     "output_type": "display_data"
    }
   ],
   "source": [
    "#contact vs subscribers\n",
    "sns.countplot(x ='contact', hue = 'subscribed', data = df_train)\n",
    "plt.xticks(fontsize = 10, ha = \"right\")\n",
    "plt.yticks(fontsize = 10)\n",
    "plt.xlabel('Contact', fontsize = 15)\n",
    "plt.ylabel('Count', fontsize = 15)\n",
    "\n",
    "#83% of subscribers were contacted over cellular network."
   ]
  },
  {
   "cell_type": "code",
   "execution_count": 34,
   "metadata": {},
   "outputs": [],
   "source": [
    "#day to week\n",
    "week = []\n",
    "for i in df_train['day']:\n",
    "    if i < 8:\n",
    "        week.append(1)\n",
    "    elif i >= 8 and i < 16:\n",
    "        week.append(2)\n",
    "    elif i >=16 and i < 22:\n",
    "        week.append(3)\n",
    "    else:\n",
    "        week.append(4)\n",
    "df_train['week'] = week\n",
    "df_train = df_train.drop('day', axis = 1)"
   ]
  },
  {
   "cell_type": "code",
   "execution_count": 35,
   "metadata": {},
   "outputs": [],
   "source": [
    "week = []\n",
    "for i in df_test['day']:\n",
    "    if i < 8:\n",
    "        week.append(1)\n",
    "    elif i >= 8 and i < 16:\n",
    "        week.append(2)\n",
    "    elif i >=16 and i < 22:\n",
    "        week.append(3)\n",
    "    else:\n",
    "        week.append(4)\n",
    "df_test['week'] = week\n",
    "df_test = df_test.drop('day', axis = 1)"
   ]
  },
  {
   "cell_type": "code",
   "execution_count": 36,
   "metadata": {},
   "outputs": [
    {
     "data": {
      "text/plain": [
       "Text(0, 0.5, 'Count')"
      ]
     },
     "execution_count": 36,
     "metadata": {},
     "output_type": "execute_result"
    },
    {
     "data": {
      "image/png": "[encoded data removed]",
      "text/plain": [
       "<Figure size 432x288 with 1 Axes>"
      ]
     },
     "metadata": {
      "needs_background": "light"
     },
     "output_type": "display_data"
    }
   ],
   "source": [
    "#week vs subscribed\n",
    "sns.countplot(x ='week', hue = 'subscribed', data = df_train)\n",
    "plt.xticks(fontsize = 10, ha = \"right\")\n",
    "plt.yticks(fontsize = 10)\n",
    "plt.xlabel('Week', fontsize = 15)\n",
    "plt.ylabel('Count', fontsize = 15)\n",
    "\n",
    "#31% of subscribers are contacted in the second week of the month.\n",
    "#54% of subscribers are contacted in the first half of the month."
   ]
  },
  {
   "cell_type": "code",
   "execution_count": 37,
   "metadata": {
    "scrolled": false
   },
   "outputs": [
    {
     "data": {
      "text/plain": [
       "Text(0, 0.5, 'Count')"
      ]
     },
     "execution_count": 37,
     "metadata": {},
     "output_type": "execute_result"
    },
    {
     "data": {
      "image/png": "[encoded data removed]",
      "text/plain": [
       "<Figure size 1440x1152 with 1 Axes>"
      ]
     },
     "metadata": {
      "needs_background": "light"
     },
     "output_type": "display_data"
    }
   ],
   "source": [
    "#month vs subscribed\n",
    "plt.figure(figsize = (20, 16))\n",
    "sns.countplot(x ='month', hue = 'subscribed', data = df_train)\n",
    "plt.xticks(fontsize = 10, ha = \"right\")\n",
    "plt.yticks(fontsize = 10)\n",
    "plt.xlabel('Month', fontsize = 15)\n",
    "plt.ylabel('Count', fontsize = 15)\n",
    "\n",
    "#18% of subscribers are contacted in may.\n",
    "#64% of subscribers are contacted inbetween april to august.\n",
    "#54% of subscribers are contacted in the first half of the year."
   ]
  },
  {
   "cell_type": "code",
   "execution_count": 38,
   "metadata": {},
   "outputs": [],
   "source": [
    "#bining of duration for analysis\n",
    "duration = []\n",
    "for i in df_train['duration']:\n",
    "    if (i >= 0 and i <= 500):\n",
    "        duration.append('0-500')\n",
    "    elif (i >= 501 and i <= 1000):\n",
    "        duration.append('501-1000')\n",
    "    elif (i >= 1001 and i <= 1500):\n",
    "        duration.append('1001-1500')\n",
    "    elif (i >= 1501 and i <= 2000):\n",
    "        duration.append('1501-2000')\n",
    "    elif (i >= 2001 and i <= 2500):\n",
    "        duration.append('2001 - 2500')\n",
    "    elif (i >= 2501 and i <= 3000):\n",
    "        duration.append('2501-3000')\n",
    "    elif (i >= 3001 and i <= 3500):\n",
    "        duration.append('3001-3500')\n",
    "    elif (i >= 3501 and i <= 4000):\n",
    "        duration.append('3501-4000')\n",
    "    elif (i >= 4001 and i <= 4500):\n",
    "        duration.append('4001-4500')\n",
    "    elif (i >= 4501 and i <= 5000):\n",
    "        duration.append('4501-5000')\n",
    "    else:\n",
    "        pass\n",
    "df_train['duration_group'] = duration"
   ]
  },
  {
   "cell_type": "code",
   "execution_count": 39,
   "metadata": {},
   "outputs": [],
   "source": [
    "duration = []\n",
    "for i in df_test['duration']:\n",
    "    if (i >= 0 and i <= 500):\n",
    "        duration.append('0-500')\n",
    "    elif (i >= 501 and i <= 1000):\n",
    "        duration.append('501-1000')\n",
    "    elif (i >= 1001 and i <= 1500):\n",
    "        duration.append('1001-1500')\n",
    "    elif (i >= 1501 and i <= 2000):\n",
    "        duration.append('1501-2000')\n",
    "    elif (i >= 2001 and i <= 2500):\n",
    "        duration.append('2001 - 2500')\n",
    "    elif (i >= 2501 and i <= 3000):\n",
    "        duration.append('2501-3000')\n",
    "    elif (i >= 3001 and i <= 3500):\n",
    "        duration.append('3001-3500')\n",
    "    elif (i >= 3501 and i <= 4000):\n",
    "        duration.append('3501-4000')\n",
    "    elif (i >= 4001 and i <= 4500):\n",
    "        duration.append('4001-4500')\n",
    "    elif (i >= 4501 and i <= 5000):\n",
    "        duration.append('4501-5000')\n",
    "    else:\n",
    "        pass\n",
    "df_test['duration_group'] = duration"
   ]
  },
  {
   "cell_type": "code",
   "execution_count": 40,
   "metadata": {},
   "outputs": [
    {
     "data": {
      "text/plain": [
       "<matplotlib.legend.Legend at 0x246009966c8>"
      ]
     },
     "execution_count": 40,
     "metadata": {},
     "output_type": "execute_result"
    },
    {
     "data": {
      "image/png": "[encoded data removed]",
      "text/plain": [
       "<Figure size 1440x1152 with 1 Axes>"
      ]
     },
     "metadata": {
      "needs_background": "light"
     },
     "output_type": "display_data"
    }
   ],
   "source": [
    "#duration group vs subscribe\n",
    "plt.figure(figsize = (20, 16))\n",
    "sns.countplot(x ='duration_group', hue = 'subscribed', data = df_train)\n",
    "plt.xticks(fontsize = 10, ha = \"right\")\n",
    "plt.yticks(fontsize = 10)\n",
    "plt.xlabel('Duration Group', fontsize = 15)\n",
    "plt.ylabel('Count', fontsize = 15)\n",
    "plt.legend(loc = 'upper right')\n",
    "\n",
    "#57% of the subscribers have contact duration of less than 500 seconds.\n",
    "#88% of the subscribers have contact duration of less than 1000 seconds."
   ]
  },
  {
   "cell_type": "code",
   "execution_count": 41,
   "metadata": {},
   "outputs": [
    {
     "data": {
      "image/png": "[encoded data removed]",
      "text/plain": [
       "<Figure size 432x288 with 1 Axes>"
      ]
     },
     "metadata": {
      "needs_background": "light"
     },
     "output_type": "display_data"
    }
   ],
   "source": [
    "#Analysing Duration\n",
    "sns.distplot(df_train['duration'])\n",
    "sns.distplot(y_df['duration'])\n",
    "plt.xticks(fontsize = 10, ha = \"right\")\n",
    "plt.yticks(fontsize = 10)\n",
    "plt.xlabel('Duration', fontsize = 15)\n",
    "plt.legend(['Duration', 'Subscribers Duration'])\n",
    "plt.show()"
   ]
  },
  {
   "cell_type": "code",
   "execution_count": 42,
   "metadata": {},
   "outputs": [
    {
     "data": {
      "image/png": "[encoded data removed]",
      "text/plain": [
       "<Figure size 432x288 with 1 Axes>"
      ]
     },
     "metadata": {
      "needs_background": "light"
     },
     "output_type": "display_data"
    }
   ],
   "source": [
    "#transforming duration\n",
    "sns.distplot((df_train['duration']) ** (1/3))\n",
    "sns.distplot((y_df['duration']) ** (1/3))\n",
    "plt.xticks(fontsize = 10, ha = \"right\")\n",
    "plt.yticks(fontsize = 10)\n",
    "plt.xlabel('Duration', fontsize = 15)\n",
    "plt.legend(['Duration', 'Subscribers Duration'])\n",
    "plt.show()\n",
    "df_train['duration'] = df_train['duration'] ** (1/3)\n",
    "df_test['duration'] = df_test['duration'] ** (1/3)"
   ]
  },
  {
   "cell_type": "code",
   "execution_count": 43,
   "metadata": {},
   "outputs": [],
   "source": [
    "#bining of campaign\n",
    "campaign_train = []\n",
    "for i in df_train['campaign']:\n",
    "    if (i >= 1 and i <= 7):\n",
    "        campaign_train.append('1-7')\n",
    "    elif (i >= 8 and i <= 14):\n",
    "        campaign_train.append('8-14')\n",
    "    elif (i >= 15 and i <= 21):\n",
    "        campaign_train.append('15-21')\n",
    "    elif (i >= 22 and i <= 28):\n",
    "        campaign_train.append('22-28')\n",
    "    elif (i >= 29 and i <= 35):\n",
    "        campaign_train.append('29-35')\n",
    "    elif (i >= 36 and i <= 42):\n",
    "        campaign_train.append('36-42')\n",
    "    elif (i >= 43 and i <= 49):\n",
    "        campaign_train.append('43-49')\n",
    "    elif (i >= 50 and i <= 56):\n",
    "        campaign_train.append('50-56')\n",
    "    elif (i >= 57 and i <= 63):\n",
    "        campaign_train.append('57-63')\n",
    "    else:\n",
    "        pass\n",
    "df_train['campaign_group'] = campaign_train"
   ]
  },
  {
   "cell_type": "code",
   "execution_count": 44,
   "metadata": {},
   "outputs": [],
   "source": [
    "campaign_test = []\n",
    "for i in df_test['campaign']:\n",
    "    if (i >= 1 and i <= 7):\n",
    "        campaign_test.append('1-7')\n",
    "    elif (i >= 8 and i <= 14):\n",
    "        campaign_test.append('8-14')\n",
    "    elif (i >= 15 and i <= 21):\n",
    "        campaign_test.append('15-21')\n",
    "    elif (i >= 22 and i <= 28):\n",
    "        campaign_test.append('22-28')\n",
    "    elif (i >= 29 and i <= 35):\n",
    "        campaign_test.append('29-35')\n",
    "    elif (i >= 36 and i <= 42):\n",
    "        campaign_test.append('36-42')\n",
    "    elif (i >= 43 and i <= 49):\n",
    "        campaign_test.append('43-49')\n",
    "    elif (i >= 50 and i <= 56):\n",
    "        campaign_test.append('50-56')\n",
    "    elif (i >= 57 and i <= 63):\n",
    "        campaign_test.append('57-63')\n",
    "    else:\n",
    "        pass\n",
    "df_test['campaign_group'] = campaign_test"
   ]
  },
  {
   "cell_type": "code",
   "execution_count": 45,
   "metadata": {
    "scrolled": false
   },
   "outputs": [
    {
     "data": {
      "text/plain": [
       "<matplotlib.legend.Legend at 0x246014b3c88>"
      ]
     },
     "execution_count": 45,
     "metadata": {},
     "output_type": "execute_result"
    },
    {
     "data": {
      "image/png": "[encoded data removed]",
      "text/plain": [
       "<Figure size 720x576 with 1 Axes>"
      ]
     },
     "metadata": {
      "needs_background": "light"
     },
     "output_type": "display_data"
    }
   ],
   "source": [
    "#campaign group vs subscriber\n",
    "plt.figure(figsize = (10, 8))\n",
    "sns.countplot(x ='campaign_group', hue= 'subscribed', data = df_train)\n",
    "plt.xticks(fontsize = 10, ha = \"right\")\n",
    "plt.yticks(fontsize = 10)\n",
    "plt.xlabel('Campaign Group', fontsize = 15)\n",
    "plt.ylabel('Count', fontsize = 15)\n",
    "plt.legend(loc = 'upper right')\n",
    "\n",
    "#98% of subscribers have been contacted maximum 7 times."
   ]
  },
  {
   "cell_type": "code",
   "execution_count": 46,
   "metadata": {},
   "outputs": [
    {
     "data": {
      "image/png": "[encoded data removed]",
      "text/plain": [
       "<Figure size 432x288 with 1 Axes>"
      ]
     },
     "metadata": {
      "needs_background": "light"
     },
     "output_type": "display_data"
    }
   ],
   "source": [
    "#campaign distribution\n",
    "sns.distplot(df_train['campaign'])\n",
    "sns.distplot(y_df['campaign'])\n",
    "plt.xticks(fontsize = 10, ha = \"right\")\n",
    "plt.yticks(fontsize = 10)\n",
    "plt.xlabel('Campaign', fontsize = 15)\n",
    "plt.legend(['Campaign', 'Subscribers Campaign'])\n",
    "plt.show()"
   ]
  },
  {
   "cell_type": "code",
   "execution_count": 47,
   "metadata": {
    "scrolled": true
   },
   "outputs": [
    {
     "data": {
      "image/png": "[encoded data removed]",
      "text/plain": [
       "<Figure size 432x288 with 1 Axes>"
      ]
     },
     "metadata": {
      "needs_background": "light"
     },
     "output_type": "display_data"
    }
   ],
   "source": [
    "#transforming campaign\n",
    "sns.distplot((df_train['campaign']) ** (1/3))\n",
    "sns.distplot((y_df['campaign']) ** (1/3))\n",
    "plt.xticks(fontsize = 10, ha = \"right\")\n",
    "plt.yticks(fontsize = 10)\n",
    "plt.xlabel('Campaign', fontsize = 15)\n",
    "plt.legend(['Campaign', 'Subscribers Campaign'])\n",
    "plt.show()\n",
    "df_train['campaign'] = df_train['campaign'] ** (1/3)\n",
    "df_test['campaign'] = df_test['campaign'] ** (1/3)"
   ]
  },
  {
   "cell_type": "code",
   "execution_count": 48,
   "metadata": {},
   "outputs": [],
   "source": [
    "#Changing -1 in pdays to 0\n",
    "pdays = []\n",
    "for i in df_train['pdays']:\n",
    "    if i < 0:\n",
    "        pdays.append(0)\n",
    "    else:\n",
    "        pdays.append(i)\n",
    "df_train['pdays'] = pdays"
   ]
  },
  {
   "cell_type": "code",
   "execution_count": 49,
   "metadata": {},
   "outputs": [],
   "source": [
    "pdays = []\n",
    "for i in df_test['pdays']:\n",
    "    if i < 0:\n",
    "        pdays.append(0)\n",
    "    else:\n",
    "        pdays.append(i)\n",
    "df_test['pdays'] = pdays"
   ]
  },
  {
   "cell_type": "code",
   "execution_count": 50,
   "metadata": {},
   "outputs": [],
   "source": [
    "#binning of pdays\n",
    "pdays = []\n",
    "for i in df_train['pdays']:\n",
    "    if (i >= 0 and i <= 100):\n",
    "        pdays.append('1-100')\n",
    "    elif (i >= 101 and i <= 200):\n",
    "        pdays.append('101-200')\n",
    "    elif (i >= 201 and i <= 300):\n",
    "        pdays.append('201-300')\n",
    "    elif (i >= 301 and i <= 400):\n",
    "        pdays.append('301-400')\n",
    "    elif (i >= 401 and i <= 500):\n",
    "        pdays.append('401-500')\n",
    "    elif (i >= 501 and i <= 600):\n",
    "        pdays.append('501-600')\n",
    "    elif (i >= 601 and i <= 700):\n",
    "        pdays.append('601-700')\n",
    "    elif (i >= 701 and i <= 800):\n",
    "        pdays.append('701-800')\n",
    "    elif (i >= 801 and i <= 900):\n",
    "        pdays.append('801-900')\n",
    "    else:\n",
    "        pass\n",
    "df_train['pdays_group'] = pdays"
   ]
  },
  {
   "cell_type": "code",
   "execution_count": 51,
   "metadata": {},
   "outputs": [],
   "source": [
    "pdays = []\n",
    "for i in df_test['pdays']:\n",
    "    if (i >= 0 and i <= 100):\n",
    "        pdays.append('1-100')\n",
    "    elif (i >= 101 and i <= 200):\n",
    "        pdays.append('101-200')\n",
    "    elif (i >= 201 and i <= 300):\n",
    "        pdays.append('201-300')\n",
    "    elif (i >= 301 and i <= 400):\n",
    "        pdays.append('301-400')\n",
    "    elif (i >= 401 and i <= 500):\n",
    "        pdays.append('401-500')\n",
    "    elif (i >= 501 and i <= 600):\n",
    "        pdays.append('501-600')\n",
    "    elif (i >= 601 and i <= 700):\n",
    "        pdays.append('601-700')\n",
    "    elif (i >= 701 and i <= 800):\n",
    "        pdays.append('701-800')\n",
    "    elif (i >= 801 and i <= 900):\n",
    "        pdays.append('801-900')\n",
    "    else:\n",
    "        pass\n",
    "df_test['pdays_group'] = pdays"
   ]
  },
  {
   "cell_type": "code",
   "execution_count": 52,
   "metadata": {},
   "outputs": [
    {
     "data": {
      "text/plain": [
       "Text(0, 0.5, 'Count')"
      ]
     },
     "execution_count": 52,
     "metadata": {},
     "output_type": "execute_result"
    },
    {
     "data": {
      "image/png": "[encoded data removed]",
      "text/plain": [
       "<Figure size 720x576 with 1 Axes>"
      ]
     },
     "metadata": {
      "needs_background": "light"
     },
     "output_type": "display_data"
    }
   ],
   "source": [
    "#pdays vs subscribed\n",
    "plt.figure(figsize = (10, 8))\n",
    "sns.countplot(x ='pdays_group', hue= 'subscribed', data = df_train)\n",
    "plt.xticks(fontsize = 10, ha = \"right\")\n",
    "plt.yticks(fontsize = 10)\n",
    "plt.xlabel('Pdays Group', fontsize = 15)\n",
    "plt.ylabel('Count', fontsize = 15)\n",
    "\n",
    "#76% of subscribers have been previously contacted within 100 days.\n",
    "#90% of subscribers have been previously contacted within 200 days."
   ]
  },
  {
   "cell_type": "code",
   "execution_count": 53,
   "metadata": {
    "scrolled": false
   },
   "outputs": [
    {
     "data": {
      "image/png": "[encoded data removed]",
      "text/plain": [
       "<Figure size 432x288 with 1 Axes>"
      ]
     },
     "metadata": {
      "needs_background": "light"
     },
     "output_type": "display_data"
    },
    {
     "data": {
      "image/png": "[encoded data removed]",
      "text/plain": [
       "<Figure size 432x288 with 1 Axes>"
      ]
     },
     "metadata": {
      "needs_background": "light"
     },
     "output_type": "display_data"
    }
   ],
   "source": [
    "#pdays distribution\n",
    "sns.kdeplot(df_train['pdays'], bw = 10)\n",
    "sns.kdeplot(y_df['pdays'], bw = 10)\n",
    "plt.xticks(fontsize = 10, ha = \"right\")\n",
    "plt.yticks(fontsize = 10)\n",
    "plt.xlabel('Pdays', fontsize = 15)\n",
    "plt.legend(['Pdays', 'Subscribers Pdays'])\n",
    "plt.show()\n",
    "sns.distplot(df_train['pdays'], kde = False)\n",
    "sns.distplot(y_df['pdays'], kde = False)\n",
    "plt.xticks(fontsize = 10, ha = \"right\")\n",
    "plt.yticks(fontsize = 10)\n",
    "plt.xlabel('Pdays', fontsize = 15)\n",
    "plt.legend(['Pdays', 'Subscribers Pdays'])\n",
    "plt.show()"
   ]
  },
  {
   "cell_type": "code",
   "execution_count": 54,
   "metadata": {},
   "outputs": [
    {
     "data": {
      "image/png": "[encoded data removed]",
      "text/plain": [
       "<Figure size 432x288 with 1 Axes>"
      ]
     },
     "metadata": {
      "needs_background": "light"
     },
     "output_type": "display_data"
    },
    {
     "data": {
      "image/png": "[encoded data removed]",
      "text/plain": [
       "<Figure size 432x288 with 1 Axes>"
      ]
     },
     "metadata": {
      "needs_background": "light"
     },
     "output_type": "display_data"
    }
   ],
   "source": [
    "#transforming pdays\n",
    "sns.kdeplot((df_train['pdays']) ** (1/3), bw = 10)\n",
    "sns.kdeplot((y_df['pdays']) ** (1/3), bw = 10)\n",
    "plt.xticks(fontsize = 10, ha = \"right\")\n",
    "plt.yticks(fontsize = 10)\n",
    "plt.xlabel('Pdays', fontsize = 15)\n",
    "plt.legend(['Pdays', 'Subscribers Pdays'])\n",
    "plt.show()\n",
    "sns.distplot((df_train['pdays']) ** (1/3), kde = False)\n",
    "sns.distplot((y_df['pdays']) ** (1/3), kde = False)\n",
    "plt.xticks(fontsize = 10, ha = \"right\")\n",
    "plt.yticks(fontsize = 10)\n",
    "plt.xlabel('Pdays', fontsize = 15)\n",
    "plt.legend(['Pdays', 'Subscribers Pdays'])\n",
    "plt.show()\n",
    "df_train['pdays'] = df_train['pdays'] ** (1/3)\n",
    "df_test['pdays'] = df_test['pdays'] ** (1/3)"
   ]
  },
  {
   "cell_type": "code",
   "execution_count": 55,
   "metadata": {},
   "outputs": [],
   "source": [
    "#binning of previous\n",
    "previous = []\n",
    "for i in df_train['previous']:\n",
    "    if (i >= 0 and i <= 50):\n",
    "        previous.append('1-50')\n",
    "    elif (i >= 51 and i <= 100):\n",
    "        previous.append('51-100')\n",
    "    elif (i >= 101 and i <= 150):\n",
    "        previous.append('101-150')\n",
    "    elif (i >= 151 and i <= 200):\n",
    "        previous.append('151-200')\n",
    "    elif (i >= 201 and i <= 250):\n",
    "        previous.append('201-250')\n",
    "    elif (i >= 251 and i <= 300):\n",
    "        previous.append('251-300')\n",
    "    else:\n",
    "        pass\n",
    "df_train['previous_groups'] = previous"
   ]
  },
  {
   "cell_type": "code",
   "execution_count": 56,
   "metadata": {},
   "outputs": [],
   "source": [
    "previous = []\n",
    "for i in df_test['previous']:\n",
    "    if (i >= 0 and i <= 50):\n",
    "        previous.append('1-50')\n",
    "    elif (i >= 51 and i <= 100):\n",
    "        previous.append('51-100')\n",
    "    elif (i >= 101 and i <= 150):\n",
    "        previous.append('101-150')\n",
    "    elif (i >= 151 and i <= 200):\n",
    "        previous.append('151-200')\n",
    "    elif (i >= 201 and i <= 250):\n",
    "        previous.append('201-250')\n",
    "    elif (i >= 251 and i <= 300):\n",
    "        previous.append('251-300')\n",
    "    else:\n",
    "        pass\n",
    "df_test['previous_groups'] = previous"
   ]
  },
  {
   "cell_type": "code",
   "execution_count": 57,
   "metadata": {},
   "outputs": [
    {
     "data": {
      "text/plain": [
       "Text(0, 0.5, 'Count')"
      ]
     },
     "execution_count": 57,
     "metadata": {},
     "output_type": "execute_result"
    },
    {
     "data": {
      "image/png": "[encoded data removed]",
      "text/plain": [
       "<Figure size 720x576 with 1 Axes>"
      ]
     },
     "metadata": {
      "needs_background": "light"
     },
     "output_type": "display_data"
    }
   ],
   "source": [
    "#previous vs subscribed\n",
    "plt.figure(figsize = (10, 8))\n",
    "sns.countplot(x ='previous_groups', hue= 'subscribed', data = df_train)\n",
    "plt.xticks(fontsize = 10, ha = \"right\")\n",
    "plt.yticks(fontsize = 10)\n",
    "plt.xlabel('Previous Group', fontsize = 15)\n",
    "plt.ylabel('Count', fontsize = 15)\n",
    "\n",
    "#Almost all the subscribers were contacted 50 or less than 50 times previously."
   ]
  },
  {
   "cell_type": "code",
   "execution_count": 58,
   "metadata": {
    "scrolled": false
   },
   "outputs": [
    {
     "data": {
      "image/png": "[encoded data removed]",
      "text/plain": [
       "<Figure size 432x288 with 1 Axes>"
      ]
     },
     "metadata": {
      "needs_background": "light"
     },
     "output_type": "display_data"
    },
    {
     "data": {
      "image/png": "[encoded data removed]",
      "text/plain": [
       "<Figure size 432x288 with 1 Axes>"
      ]
     },
     "metadata": {
      "needs_background": "light"
     },
     "output_type": "display_data"
    }
   ],
   "source": [
    "#previous distribution\n",
    "sns.kdeplot(df_train['previous'], bw = 10)\n",
    "sns.kdeplot(y_df['previous'], bw = 10)\n",
    "plt.xticks(fontsize = 10, ha = \"right\")\n",
    "plt.yticks(fontsize = 10)\n",
    "plt.xlabel('Previous', fontsize = 15)\n",
    "plt.legend(['Previous', 'Subscribers Previous'])\n",
    "plt.show()\n",
    "sns.distplot(df_train['previous'], kde = False)\n",
    "sns.distplot(y_df['previous'], kde = False)\n",
    "plt.xticks(fontsize = 10, ha = \"right\")\n",
    "plt.yticks(fontsize = 10)\n",
    "plt.xlabel('Previous', fontsize = 15)\n",
    "plt.legend(['Previous', 'Subscribers Previous'])\n",
    "plt.show()"
   ]
  },
  {
   "cell_type": "code",
   "execution_count": 59,
   "metadata": {},
   "outputs": [
    {
     "data": {
      "image/png": "[encoded data removed]",
      "text/plain": [
       "<Figure size 432x288 with 1 Axes>"
      ]
     },
     "metadata": {
      "needs_background": "light"
     },
     "output_type": "display_data"
    },
    {
     "data": {
      "image/png": "[encoded data removed]",
      "text/plain": [
       "<Figure size 432x288 with 1 Axes>"
      ]
     },
     "metadata": {
      "needs_background": "light"
     },
     "output_type": "display_data"
    }
   ],
   "source": [
    "#transforming previous\n",
    "sns.kdeplot((df_train['previous']) ** (1/2), bw = 10)\n",
    "sns.kdeplot((y_df['previous']) ** (1/2), bw = 10)\n",
    "plt.xticks(fontsize = 10, ha = \"right\")\n",
    "plt.yticks(fontsize = 10)\n",
    "plt.xlabel('Previous', fontsize = 15)\n",
    "plt.legend(['Previous', 'Subscribers Previous'])\n",
    "plt.show()\n",
    "sns.distplot((df_train['previous']) ** (1/2), kde = False)\n",
    "sns.distplot((y_df['previous']) ** (1/2), kde = False)\n",
    "plt.xticks(fontsize = 10, ha = \"right\")\n",
    "plt.yticks(fontsize = 10)\n",
    "plt.xlabel('Previous', fontsize = 15)\n",
    "plt.legend(['Previous', 'Subscribers Previous'])\n",
    "plt.show()\n",
    "df_train['previous'] = df_train['previous'] ** (1/2)\n",
    "df_test['previous'] = df_test['previous'] ** (1/2)"
   ]
  },
  {
   "cell_type": "code",
   "execution_count": 60,
   "metadata": {
    "scrolled": true
   },
   "outputs": [
    {
     "data": {
      "text/plain": [
       "Text(0, 0.5, 'Count')"
      ]
     },
     "execution_count": 60,
     "metadata": {},
     "output_type": "execute_result"
    },
    {
     "data": {
      "image/png": "[encoded data removed]",
      "text/plain": [
       "<Figure size 432x288 with 1 Axes>"
      ]
     },
     "metadata": {
      "needs_background": "light"
     },
     "output_type": "display_data"
    }
   ],
   "source": [
    "#poutcome vs subscribed\n",
    "sns.countplot(x ='poutcome', hue = 'subscribed', data = df_train)\n",
    "plt.xticks(fontsize = 10, ha = \"right\")\n",
    "plt.yticks(fontsize = 10)\n",
    "plt.xlabel('Previous Outcome', fontsize = 15)\n",
    "plt.ylabel('Count', fontsize = 15)\n",
    "\n",
    "#66% of subscribers were not contacted previously.\n",
    "#83% of subscribers were either not contacted previously or were subscribers already.\n",
    "#12% of subscribers were not subscribers previously, but now they have subscribed."
   ]
  },
  {
   "cell_type": "code",
   "execution_count": 61,
   "metadata": {},
   "outputs": [],
   "source": [
    "df_train_dummies = pd.get_dummies(df_train[['job', 'marital', 'default', 'housing', 'loan', 'contact', 'poutcome', 'week']], drop_first = True)\n",
    "df_train_label = df_train[['education', 'month']].apply(LabelEncoder().fit_transform)\n",
    "df_test_dummies = pd.get_dummies(df_test[['job', 'marital', 'default', 'housing', 'loan', 'contact', 'poutcome', 'week']], drop_first = True)\n",
    "df_test_label = df_test[['education', 'month']].apply(LabelEncoder().fit_transform)"
   ]
  },
  {
   "cell_type": "code",
   "execution_count": 62,
   "metadata": {},
   "outputs": [],
   "source": [
    "df_train = pd.concat([df_train.drop(['job', 'marital', 'default', 'housing', 'loan', 'contact', 'poutcome', 'education', 'month', 'week'], axis = 1), df_train_dummies, df_train_label], axis = 1)\n",
    "df_test = pd.concat([df_test.drop(['job', 'marital', 'default', 'housing', 'loan', 'contact', 'poutcome', 'education', 'month', 'week'], axis = 1), df_test_dummies, df_test_label], axis = 1)"
   ]
  },
  {
   "cell_type": "code",
   "execution_count": 63,
   "metadata": {},
   "outputs": [],
   "source": [
    "#dropping ID\n",
    "df_train = df_train.drop(['ID', 'age_group', 'balance_group', 'duration_group', 'campaign_group', 'pdays_group', 'previous_groups'], axis = 1)\n",
    "df_test = df_test.drop(['ID', 'age_group', 'balance_group', 'duration_group', 'campaign_group', 'pdays_group', 'previous_groups'], axis = 1)"
   ]
  },
  {
   "cell_type": "code",
   "execution_count": 64,
   "metadata": {},
   "outputs": [],
   "source": [
    "df_train['subscribed'] = df_train['subscribed'].map({'yes': 1, 'no': 0})"
   ]
  },
  {
   "cell_type": "code",
   "execution_count": 65,
   "metadata": {},
   "outputs": [],
   "source": [
    "df_train_scaled = pd.DataFrame(StandardScaler().fit_transform(df_train.drop('subscribed', axis = 1)), columns = df_test.columns)\n",
    "df_test_scaled = pd.DataFrame(StandardScaler().fit_transform(df_test), columns = df_test.columns)"
   ]
  },
  {
   "cell_type": "code",
   "execution_count": 1,
   "metadata": {},
   "outputs": [
    {
     "ename": "NameError",
     "evalue": "name 'df_train_scaled' is not defined",
     "output_type": "error",
     "traceback": [
      "\u001b[1;31m---------------------------------------------------------------------------\u001b[0m",
      "\u001b[1;31mNameError\u001b[0m                                 Traceback (most recent call last)",
      "\u001b[1;32m<ipython-input-1-f9549d0d29f9>\u001b[0m in \u001b[0;36m<module>\u001b[1;34m\u001b[0m\n\u001b[0;32m      1\u001b[0m \u001b[0mpca_columns\u001b[0m \u001b[1;33m=\u001b[0m \u001b[1;33m[\u001b[0m\u001b[1;33m]\u001b[0m\u001b[1;33m\u001b[0m\u001b[1;33m\u001b[0m\u001b[0m\n\u001b[1;32m----> 2\u001b[1;33m \u001b[1;32mfor\u001b[0m \u001b[0mi\u001b[0m \u001b[1;32min\u001b[0m \u001b[0mrange\u001b[0m\u001b[1;33m(\u001b[0m\u001b[0mdf_train_scaled\u001b[0m\u001b[1;33m.\u001b[0m\u001b[0mshape\u001b[0m\u001b[1;33m[\u001b[0m\u001b[1;36m1\u001b[0m\u001b[1;33m]\u001b[0m\u001b[1;33m)\u001b[0m\u001b[1;33m:\u001b[0m\u001b[1;33m\u001b[0m\u001b[1;33m\u001b[0m\u001b[0m\n\u001b[0m\u001b[0;32m      3\u001b[0m     \u001b[0mpca_columns\u001b[0m\u001b[1;33m.\u001b[0m\u001b[0mappend\u001b[0m\u001b[1;33m(\u001b[0m\u001b[1;34m'PC'\u001b[0m \u001b[1;33m+\u001b[0m \u001b[0mstr\u001b[0m\u001b[1;33m(\u001b[0m\u001b[0mi\u001b[0m\u001b[1;33m+\u001b[0m\u001b[1;36m1\u001b[0m\u001b[1;33m)\u001b[0m\u001b[1;33m)\u001b[0m\u001b[1;33m\u001b[0m\u001b[1;33m\u001b[0m\u001b[0m\n\u001b[0;32m      4\u001b[0m \u001b[0mpca_model\u001b[0m \u001b[1;33m=\u001b[0m \u001b[0mPCA\u001b[0m\u001b[1;33m(\u001b[0m\u001b[1;33m)\u001b[0m\u001b[1;33m\u001b[0m\u001b[1;33m\u001b[0m\u001b[0m\n\u001b[0;32m      5\u001b[0m \u001b[0mpca_model\u001b[0m\u001b[1;33m.\u001b[0m\u001b[0mfit\u001b[0m\u001b[1;33m(\u001b[0m\u001b[0mdf_train_scaled\u001b[0m\u001b[1;33m)\u001b[0m\u001b[1;33m\u001b[0m\u001b[1;33m\u001b[0m\u001b[0m\n",
      "\u001b[1;31mNameError\u001b[0m: name 'df_train_scaled' is not defined"
     ]
    }
   ],
   "source": [
    "pca_columns = []\n",
    "for i in range(df_train_scaled.shape[1]):\n",
    "    pca_columns.append('PC' + str(i+1))\n",
    "pca_model = PCA()\n",
    "pca_model.fit(df_train_scaled)\n",
    "df_pca_train = pd.DataFrame(pca_model.transform(df_train_scaled), columns = pca_columns)\n",
    "explained_info_train = pd.DataFrame(pca_model.explained_variance_ratio_, columns=['Explained Info']).sort_values(by = 'Explained Info', ascending = False)\n",
    "#imp = []\n",
    "#for i in range(explained_info_train.shape[0]):\n",
    "    #imp.append(explained_info_train.head(i).sum())\n",
    "#explained_info_train_sum = pd.DataFrame()\n",
    "#explained_info_train_sum['Variable'] = pca_columns\n",
    "#explained_info_train_sum['Importance'] = imp\n",
    "#explained_info_train_sum"
   ]
  },
  {
   "cell_type": "code",
   "execution_count": 67,
   "metadata": {},
   "outputs": [],
   "source": [
    "pca_columns = []\n",
    "for i in range(19):\n",
    "    pca_columns.append('PC' + str(i+1))\n",
    "pca_model = PCA(n_components = 19)\n",
    "pca_model.fit(df_train_scaled)\n",
    "df_pca_train = pd.DataFrame(pca_model.transform(df_train_scaled), columns = pca_columns)"
   ]
  },
  {
   "cell_type": "code",
   "execution_count": 68,
   "metadata": {
    "scrolled": true
   },
   "outputs": [
    {
     "data": {
      "text/html": [
       "<div>\n",
       "<style scoped>\n",
       "    .dataframe tbody tr th:only-of-type {\n",
       "        vertical-align: middle;\n",
       "    }\n",
       "\n",
       "    .dataframe tbody tr th {\n",
       "        vertical-align: top;\n",
       "    }\n",
       "\n",
       "    .dataframe thead th {\n",
       "        text-align: right;\n",
       "    }\n",
       "</style>\n",
       "<table border=\"1\" class=\"dataframe\">\n",
       "  <thead>\n",
       "    <tr style=\"text-align: right;\">\n",
       "      <th></th>\n",
       "      <th>PC1</th>\n",
       "      <th>PC2</th>\n",
       "      <th>PC3</th>\n",
       "      <th>PC4</th>\n",
       "      <th>PC5</th>\n",
       "      <th>PC6</th>\n",
       "      <th>PC7</th>\n",
       "      <th>PC8</th>\n",
       "      <th>PC9</th>\n",
       "      <th>PC10</th>\n",
       "      <th>PC11</th>\n",
       "      <th>PC12</th>\n",
       "      <th>PC13</th>\n",
       "      <th>PC14</th>\n",
       "      <th>PC15</th>\n",
       "      <th>PC16</th>\n",
       "      <th>PC17</th>\n",
       "      <th>PC18</th>\n",
       "      <th>PC19</th>\n",
       "    </tr>\n",
       "  </thead>\n",
       "  <tbody>\n",
       "    <tr>\n",
       "      <th>0</th>\n",
       "      <td>-0.535870</td>\n",
       "      <td>1.176935</td>\n",
       "      <td>2.218286</td>\n",
       "      <td>-0.302131</td>\n",
       "      <td>-0.385250</td>\n",
       "      <td>1.237341</td>\n",
       "      <td>1.228127</td>\n",
       "      <td>-1.798160</td>\n",
       "      <td>0.088595</td>\n",
       "      <td>0.695858</td>\n",
       "      <td>0.162531</td>\n",
       "      <td>0.532743</td>\n",
       "      <td>-0.330392</td>\n",
       "      <td>-0.148529</td>\n",
       "      <td>-0.020997</td>\n",
       "      <td>-0.034315</td>\n",
       "      <td>2.662521</td>\n",
       "      <td>0.830958</td>\n",
       "      <td>0.202232</td>\n",
       "    </tr>\n",
       "    <tr>\n",
       "      <th>1</th>\n",
       "      <td>-0.948603</td>\n",
       "      <td>0.424437</td>\n",
       "      <td>1.538101</td>\n",
       "      <td>0.258456</td>\n",
       "      <td>0.178352</td>\n",
       "      <td>0.801086</td>\n",
       "      <td>0.453676</td>\n",
       "      <td>-0.681110</td>\n",
       "      <td>-1.196111</td>\n",
       "      <td>4.564567</td>\n",
       "      <td>-3.821293</td>\n",
       "      <td>4.387787</td>\n",
       "      <td>5.562263</td>\n",
       "      <td>5.546928</td>\n",
       "      <td>2.551362</td>\n",
       "      <td>3.964409</td>\n",
       "      <td>-0.804707</td>\n",
       "      <td>0.134425</td>\n",
       "      <td>-1.947089</td>\n",
       "    </tr>\n",
       "    <tr>\n",
       "      <th>2</th>\n",
       "      <td>-0.676811</td>\n",
       "      <td>-0.024696</td>\n",
       "      <td>-0.851427</td>\n",
       "      <td>-0.267543</td>\n",
       "      <td>0.256728</td>\n",
       "      <td>-0.741391</td>\n",
       "      <td>1.258166</td>\n",
       "      <td>1.020631</td>\n",
       "      <td>-2.648489</td>\n",
       "      <td>-0.815038</td>\n",
       "      <td>0.617484</td>\n",
       "      <td>0.369374</td>\n",
       "      <td>0.171860</td>\n",
       "      <td>-0.470876</td>\n",
       "      <td>0.889376</td>\n",
       "      <td>0.189420</td>\n",
       "      <td>-0.090897</td>\n",
       "      <td>0.607370</td>\n",
       "      <td>0.360497</td>\n",
       "    </tr>\n",
       "    <tr>\n",
       "      <th>3</th>\n",
       "      <td>4.513359</td>\n",
       "      <td>0.125912</td>\n",
       "      <td>2.123064</td>\n",
       "      <td>-1.407571</td>\n",
       "      <td>-2.416932</td>\n",
       "      <td>-0.076965</td>\n",
       "      <td>-1.106290</td>\n",
       "      <td>0.602629</td>\n",
       "      <td>-0.060533</td>\n",
       "      <td>-0.118519</td>\n",
       "      <td>-0.135124</td>\n",
       "      <td>-2.973979</td>\n",
       "      <td>-0.464788</td>\n",
       "      <td>0.475950</td>\n",
       "      <td>2.705605</td>\n",
       "      <td>1.193683</td>\n",
       "      <td>0.016861</td>\n",
       "      <td>-0.586278</td>\n",
       "      <td>-0.041510</td>\n",
       "    </tr>\n",
       "    <tr>\n",
       "      <th>4</th>\n",
       "      <td>-0.554724</td>\n",
       "      <td>-0.070207</td>\n",
       "      <td>-0.192195</td>\n",
       "      <td>0.308712</td>\n",
       "      <td>0.442281</td>\n",
       "      <td>-2.154400</td>\n",
       "      <td>-1.867121</td>\n",
       "      <td>0.528750</td>\n",
       "      <td>-0.487427</td>\n",
       "      <td>-0.161859</td>\n",
       "      <td>-0.143332</td>\n",
       "      <td>1.038674</td>\n",
       "      <td>0.664606</td>\n",
       "      <td>-0.365580</td>\n",
       "      <td>-0.350311</td>\n",
       "      <td>-0.798041</td>\n",
       "      <td>0.600028</td>\n",
       "      <td>0.311650</td>\n",
       "      <td>0.064088</td>\n",
       "    </tr>\n",
       "  </tbody>\n",
       "</table>\n",
       "</div>"
      ],
      "text/plain": [
       "        PC1       PC2       PC3       PC4       PC5       PC6       PC7  \\\n",
       "0 -0.535870  1.176935  2.218286 -0.302131 -0.385250  1.237341  1.228127   \n",
       "1 -0.948603  0.424437  1.538101  0.258456  0.178352  0.801086  0.453676   \n",
       "2 -0.676811 -0.024696 -0.851427 -0.267543  0.256728 -0.741391  1.258166   \n",
       "3  4.513359  0.125912  2.123064 -1.407571 -2.416932 -0.076965 -1.106290   \n",
       "4 -0.554724 -0.070207 -0.192195  0.308712  0.442281 -2.154400 -1.867121   \n",
       "\n",
       "        PC8       PC9      PC10      PC11      PC12      PC13      PC14  \\\n",
       "0 -1.798160  0.088595  0.695858  0.162531  0.532743 -0.330392 -0.148529   \n",
       "1 -0.681110 -1.196111  4.564567 -3.821293  4.387787  5.562263  5.546928   \n",
       "2  1.020631 -2.648489 -0.815038  0.617484  0.369374  0.171860 -0.470876   \n",
       "3  0.602629 -0.060533 -0.118519 -0.135124 -2.973979 -0.464788  0.475950   \n",
       "4  0.528750 -0.487427 -0.161859 -0.143332  1.038674  0.664606 -0.365580   \n",
       "\n",
       "       PC15      PC16      PC17      PC18      PC19  \n",
       "0 -0.020997 -0.034315  2.662521  0.830958  0.202232  \n",
       "1  2.551362  3.964409 -0.804707  0.134425 -1.947089  \n",
       "2  0.889376  0.189420 -0.090897  0.607370  0.360497  \n",
       "3  2.705605  1.193683  0.016861 -0.586278 -0.041510  \n",
       "4 -0.350311 -0.798041  0.600028  0.311650  0.064088  "
      ]
     },
     "execution_count": 68,
     "metadata": {},
     "output_type": "execute_result"
    }
   ],
   "source": [
    "df_pca_train.head()"
   ]
  },
  {
   "cell_type": "code",
   "execution_count": 69,
   "metadata": {},
   "outputs": [],
   "source": [
    "pca_model = PCA(n_components = 19)\n",
    "pca_model.fit(df_test_scaled)\n",
    "df_pca_test = pd.DataFrame(pca_model.transform(df_test_scaled), columns = pca_columns)"
   ]
  },
  {
   "cell_type": "code",
   "execution_count": 70,
   "metadata": {},
   "outputs": [],
   "source": [
    "X = df_pca_train\n",
    "y = df_train['subscribed']\n",
    "X_test = df_pca_test"
   ]
  },
  {
   "cell_type": "code",
   "execution_count": 71,
   "metadata": {
    "scrolled": true
   },
   "outputs": [
    {
     "data": {
      "text/plain": [
       "0    27932\n",
       "1     3715\n",
       "Name: subscribed, dtype: int64"
      ]
     },
     "execution_count": 71,
     "metadata": {},
     "output_type": "execute_result"
    }
   ],
   "source": [
    "df_train['subscribed'].value_counts()"
   ]
  },
  {
   "cell_type": "code",
   "execution_count": 72,
   "metadata": {},
   "outputs": [],
   "source": [
    "smote = SMOTE()\n",
    "X_smote, y_smote = smote.fit_resample(X, y)"
   ]
  },
  {
   "cell_type": "code",
   "execution_count": 73,
   "metadata": {},
   "outputs": [
    {
     "data": {
      "text/plain": [
       "1    27932\n",
       "0    27932\n",
       "Name: subscribed, dtype: int64"
      ]
     },
     "execution_count": 73,
     "metadata": {},
     "output_type": "execute_result"
    }
   ],
   "source": [
    "y_smote.value_counts()"
   ]
  },
  {
   "cell_type": "code",
   "execution_count": 74,
   "metadata": {},
   "outputs": [],
   "source": [
    "X_train, X_val, y_train, y_val = train_test_split(X_smote, y_smote, test_size = 0.3, random_state = 17)"
   ]
  },
  {
   "cell_type": "code",
   "execution_count": 75,
   "metadata": {},
   "outputs": [
    {
     "data": {
      "text/plain": [
       "((39104, 19), (16760, 19), (39104,), (16760,), (13564, 19))"
      ]
     },
     "execution_count": 75,
     "metadata": {},
     "output_type": "execute_result"
    }
   ],
   "source": [
    "X_train.shape, X_val.shape, y_train.shape, y_val.shape, X_test.shape"
   ]
  },
  {
   "cell_type": "code",
   "execution_count": 76,
   "metadata": {
    "scrolled": false
   },
   "outputs": [
    {
     "name": "stdout",
     "output_type": "stream",
     "text": [
      "Optimization terminated successfully.\n",
      "         Current function value: 0.432059\n",
      "         Iterations 7\n",
      "                           Logit Regression Results                           \n",
      "==============================================================================\n",
      "Dep. Variable:             subscribed   No. Observations:                39104\n",
      "Model:                          Logit   Df Residuals:                    39084\n",
      "Method:                           MLE   Df Model:                           19\n",
      "Date:                Thu, 01 Oct 2020   Pseudo R-squ.:                  0.3767\n",
      "Time:                        20:12:19   Log-Likelihood:                -16895.\n",
      "converged:                       True   LL-Null:                       -27105.\n",
      "Covariance Type:            nonrobust   LLR p-value:                     0.000\n",
      "==============================================================================\n",
      "                 coef    std err          z      P>|z|      [0.025      0.975]\n",
      "------------------------------------------------------------------------------\n",
      "const         -1.1244      0.018    -62.147      0.000      -1.160      -1.089\n",
      "PC1            0.4308      0.007     58.625      0.000       0.416       0.445\n",
      "PC2           -0.1210      0.008    -14.450      0.000      -0.137      -0.105\n",
      "PC3            0.4298      0.010     41.254      0.000       0.409       0.450\n",
      "PC4            0.1346      0.011     12.055      0.000       0.113       0.156\n",
      "PC5           -0.8865      0.014    -64.547      0.000      -0.913      -0.860\n",
      "PC6           -0.3243      0.013    -24.535      0.000      -0.350      -0.298\n",
      "PC7           -0.5820      0.014    -41.588      0.000      -0.609      -0.555\n",
      "PC8            0.6912      0.014     48.092      0.000       0.663       0.719\n",
      "PC9           -0.0492      0.014     -3.471      0.001      -0.077      -0.021\n",
      "PC10          -0.1759      0.013    -13.180      0.000      -0.202      -0.150\n",
      "PC11           0.3702      0.014     27.149      0.000       0.343       0.397\n",
      "PC12          -0.0375      0.013     -2.844      0.004      -0.063      -0.012\n",
      "PC13           0.0755      0.013      5.628      0.000       0.049       0.102\n",
      "PC14          -0.2548      0.014    -17.684      0.000      -0.283      -0.227\n",
      "PC15           0.2586      0.013     19.714      0.000       0.233       0.284\n",
      "PC16           0.7510      0.015     49.707      0.000       0.721       0.781\n",
      "PC17          -0.1711      0.015    -11.463      0.000      -0.200      -0.142\n",
      "PC18           0.2332      0.014     16.426      0.000       0.205       0.261\n",
      "PC19          -0.2467      0.016    -15.441      0.000      -0.278      -0.215\n",
      "==============================================================================\n"
     ]
    }
   ],
   "source": [
    "X_train_sm = sm.add_constant(X_train)\n",
    "lg = sm.Logit(y_train,X_train_sm)\n",
    "lg = lg.fit()\n",
    "print(lg.summary())"
   ]
  },
  {
   "cell_type": "code",
   "execution_count": 81,
   "metadata": {},
   "outputs": [
    {
     "data": {
      "text/html": [
       "<div>\n",
       "<style scoped>\n",
       "    .dataframe tbody tr th:only-of-type {\n",
       "        vertical-align: middle;\n",
       "    }\n",
       "\n",
       "    .dataframe tbody tr th {\n",
       "        vertical-align: top;\n",
       "    }\n",
       "\n",
       "    .dataframe thead th {\n",
       "        text-align: right;\n",
       "    }\n",
       "</style>\n",
       "<table border=\"1\" class=\"dataframe\">\n",
       "  <thead>\n",
       "    <tr style=\"text-align: right;\">\n",
       "      <th></th>\n",
       "      <th>Modelling Algorithm</th>\n",
       "      <th>Train Accuracy</th>\n",
       "      <th>Validation Accuracy</th>\n",
       "      <th>Difference</th>\n",
       "    </tr>\n",
       "  </thead>\n",
       "  <tbody>\n",
       "    <tr>\n",
       "      <th>0</th>\n",
       "      <td>LogisticRegression</td>\n",
       "      <td>0.803064</td>\n",
       "      <td>0.796897</td>\n",
       "      <td>0.767841</td>\n",
       "    </tr>\n",
       "    <tr>\n",
       "      <th>3</th>\n",
       "      <td>AdaBoostClassifier</td>\n",
       "      <td>0.804189</td>\n",
       "      <td>0.796539</td>\n",
       "      <td>0.951201</td>\n",
       "    </tr>\n",
       "    <tr>\n",
       "      <th>6</th>\n",
       "      <td>SVC</td>\n",
       "      <td>0.859989</td>\n",
       "      <td>0.850179</td>\n",
       "      <td>1.140684</td>\n",
       "    </tr>\n",
       "    <tr>\n",
       "      <th>4</th>\n",
       "      <td>GradientBoostingClassifier</td>\n",
       "      <td>0.833904</td>\n",
       "      <td>0.823210</td>\n",
       "      <td>1.282453</td>\n",
       "    </tr>\n",
       "    <tr>\n",
       "      <th>5</th>\n",
       "      <td>KNeighborsClassifier</td>\n",
       "      <td>0.927169</td>\n",
       "      <td>0.895764</td>\n",
       "      <td>3.387178</td>\n",
       "    </tr>\n",
       "    <tr>\n",
       "      <th>7</th>\n",
       "      <td>XGBClassifier</td>\n",
       "      <td>0.945376</td>\n",
       "      <td>0.886695</td>\n",
       "      <td>6.207255</td>\n",
       "    </tr>\n",
       "    <tr>\n",
       "      <th>2</th>\n",
       "      <td>RandomForestClassifier</td>\n",
       "      <td>1.000000</td>\n",
       "      <td>0.923449</td>\n",
       "      <td>7.655131</td>\n",
       "    </tr>\n",
       "    <tr>\n",
       "      <th>1</th>\n",
       "      <td>DecisionTreeClassifier</td>\n",
       "      <td>1.000000</td>\n",
       "      <td>0.862649</td>\n",
       "      <td>13.735084</td>\n",
       "    </tr>\n",
       "  </tbody>\n",
       "</table>\n",
       "</div>"
      ],
      "text/plain": [
       "          Modelling Algorithm  Train Accuracy  Validation Accuracy  Difference\n",
       "0          LogisticRegression        0.803064             0.796897    0.767841\n",
       "3          AdaBoostClassifier        0.804189             0.796539    0.951201\n",
       "6                         SVC        0.859989             0.850179    1.140684\n",
       "4  GradientBoostingClassifier        0.833904             0.823210    1.282453\n",
       "5        KNeighborsClassifier        0.927169             0.895764    3.387178\n",
       "7               XGBClassifier        0.945376             0.886695    6.207255\n",
       "2      RandomForestClassifier        1.000000             0.923449    7.655131\n",
       "1      DecisionTreeClassifier        1.000000             0.862649   13.735084"
      ]
     },
     "execution_count": 81,
     "metadata": {},
     "output_type": "execute_result"
    }
   ],
   "source": [
    "models = [LogisticRegression(), DecisionTreeClassifier(), RandomForestClassifier(), AdaBoostClassifier(), GradientBoostingClassifier(), KNeighborsClassifier(), SVC(), XGBClassifier()]\n",
    "model_names = ['LogisticRegression', 'DecisionTreeClassifier', 'RandomForestClassifier', 'AdaBoostClassifier', 'GradientBoostingClassifier', 'KNeighborsClassifier', 'SVC', 'XGBClassifier']\n",
    "accuracy_train = []\n",
    "accuracy_val = []\n",
    "for model in models:\n",
    "    mod = model\n",
    "    mod.fit(X_train, y_train)\n",
    "    y_pred_train = mod.predict(X_train)\n",
    "    y_pred_val = mod.predict(X_val)\n",
    "    accuracy_train.append(accuracy_score(y_train, y_pred_train))\n",
    "    accuracy_val.append(accuracy_score(y_val, y_pred_val))\n",
    "data = {'Modelling Algorithm' : model_names, 'Train Accuracy' : accuracy_train, 'Validation Accuracy' : accuracy_val}\n",
    "data = pd.DataFrame(data)\n",
    "data['Difference'] = ((np.abs(data['Train Accuracy'] - data['Validation Accuracy'])) * 100)/(data['Train Accuracy'])\n",
    "data.sort_values(by = 'Difference')"
   ]
  },
  {
   "cell_type": "code",
   "execution_count": 87,
   "metadata": {},
   "outputs": [
    {
     "data": {
      "text/plain": [
       "{'C': 0.8}"
      ]
     },
     "execution_count": 87,
     "metadata": {},
     "output_type": "execute_result"
    }
   ],
   "source": [
    "lr = LogisticRegression()\n",
    "possible_parameter_values = {'C' : [0.7, 0.8, 0.9]}\n",
    "lr_grid_search_cv = GridSearchCV(estimator = lr, param_grid = possible_parameter_values, cv = 10, scoring = 'accuracy')\n",
    "lr_grid_search_cv.fit(X_train, y_train)\n",
    "lr_grid_search_cv.best_params_"
   ]
  },
  {
   "cell_type": "code",
   "execution_count": 88,
   "metadata": {},
   "outputs": [],
   "source": [
    "lr = LogisticRegression(C = 0.8)\n",
    "lr.fit(X_train, y_train)\n",
    "y_pred_val = lr.predict(X_val)"
   ]
  },
  {
   "cell_type": "code",
   "execution_count": 89,
   "metadata": {},
   "outputs": [
    {
     "data": {
      "text/plain": [
       "array([1, 0, 1, ..., 1, 1, 1], dtype=int64)"
      ]
     },
     "execution_count": 89,
     "metadata": {},
     "output_type": "execute_result"
    }
   ],
   "source": [
    "y_pred_val"
   ]
  },
  {
   "cell_type": "code",
   "execution_count": 90,
   "metadata": {},
   "outputs": [
    {
     "data": {
      "text/plain": [
       "0.7968973747016707"
      ]
     },
     "execution_count": 90,
     "metadata": {},
     "output_type": "execute_result"
    }
   ],
   "source": [
    "accuracy_score(y_val, y_pred_val)"
   ]
  },
  {
   "cell_type": "code",
   "execution_count": 91,
   "metadata": {},
   "outputs": [],
   "source": [
    "lr = LogisticRegression(C = 0.8)\n",
    "lr.fit(X_train, y_train)\n",
    "y_pred_test = lr.predict(X_test)"
   ]
  },
  {
   "cell_type": "code",
   "execution_count": 92,
   "metadata": {},
   "outputs": [],
   "source": [
    "y_pred_test = pd.DataFrame(y_pred_test, columns = ['Prediction'])"
   ]
  },
  {
   "cell_type": "code",
   "execution_count": 93,
   "metadata": {},
   "outputs": [
    {
     "data": {
      "text/html": [
       "<div>\n",
       "<style scoped>\n",
       "    .dataframe tbody tr th:only-of-type {\n",
       "        vertical-align: middle;\n",
       "    }\n",
       "\n",
       "    .dataframe tbody tr th {\n",
       "        vertical-align: top;\n",
       "    }\n",
       "\n",
       "    .dataframe thead th {\n",
       "        text-align: right;\n",
       "    }\n",
       "</style>\n",
       "<table border=\"1\" class=\"dataframe\">\n",
       "  <thead>\n",
       "    <tr style=\"text-align: right;\">\n",
       "      <th></th>\n",
       "      <th>Prediction</th>\n",
       "    </tr>\n",
       "  </thead>\n",
       "  <tbody>\n",
       "    <tr>\n",
       "      <th>0</th>\n",
       "      <td>0</td>\n",
       "    </tr>\n",
       "    <tr>\n",
       "      <th>1</th>\n",
       "      <td>1</td>\n",
       "    </tr>\n",
       "    <tr>\n",
       "      <th>2</th>\n",
       "      <td>1</td>\n",
       "    </tr>\n",
       "    <tr>\n",
       "      <th>3</th>\n",
       "      <td>0</td>\n",
       "    </tr>\n",
       "    <tr>\n",
       "      <th>4</th>\n",
       "      <td>0</td>\n",
       "    </tr>\n",
       "    <tr>\n",
       "      <th>...</th>\n",
       "      <td>...</td>\n",
       "    </tr>\n",
       "    <tr>\n",
       "      <th>13559</th>\n",
       "      <td>0</td>\n",
       "    </tr>\n",
       "    <tr>\n",
       "      <th>13560</th>\n",
       "      <td>0</td>\n",
       "    </tr>\n",
       "    <tr>\n",
       "      <th>13561</th>\n",
       "      <td>0</td>\n",
       "    </tr>\n",
       "    <tr>\n",
       "      <th>13562</th>\n",
       "      <td>1</td>\n",
       "    </tr>\n",
       "    <tr>\n",
       "      <th>13563</th>\n",
       "      <td>0</td>\n",
       "    </tr>\n",
       "  </tbody>\n",
       "</table>\n",
       "<p>13564 rows × 1 columns</p>\n",
       "</div>"
      ],
      "text/plain": [
       "       Prediction\n",
       "0               0\n",
       "1               1\n",
       "2               1\n",
       "3               0\n",
       "4               0\n",
       "...           ...\n",
       "13559           0\n",
       "13560           0\n",
       "13561           0\n",
       "13562           1\n",
       "13563           0\n",
       "\n",
       "[13564 rows x 1 columns]"
      ]
     },
     "execution_count": 93,
     "metadata": {},
     "output_type": "execute_result"
    }
   ],
   "source": [
    "y_pred_test"
   ]
  },
  {
   "cell_type": "code",
   "execution_count": 94,
   "metadata": {},
   "outputs": [],
   "source": [
    "y_pred_test.to_csv('Prediction.csv')"
   ]
  },
  {
   "cell_type": "code",
   "execution_count": 95,
   "metadata": {},
   "outputs": [
    {
     "data": {
      "text/html": [
       "<div>\n",
       "<style scoped>\n",
       "    .dataframe tbody tr th:only-of-type {\n",
       "        vertical-align: middle;\n",
       "    }\n",
       "\n",
       "    .dataframe tbody tr th {\n",
       "        vertical-align: top;\n",
       "    }\n",
       "\n",
       "    .dataframe thead th {\n",
       "        text-align: right;\n",
       "    }\n",
       "</style>\n",
       "<table border=\"1\" class=\"dataframe\">\n",
       "  <thead>\n",
       "    <tr style=\"text-align: right;\">\n",
       "      <th></th>\n",
       "      <th>Variables</th>\n",
       "      <th>Values</th>\n",
       "    </tr>\n",
       "  </thead>\n",
       "  <tbody>\n",
       "    <tr>\n",
       "      <th>20</th>\n",
       "      <td>default_yes</td>\n",
       "      <td>2.315854</td>\n",
       "    </tr>\n",
       "    <tr>\n",
       "      <th>17</th>\n",
       "      <td>job_unknown</td>\n",
       "      <td>1.337913</td>\n",
       "    </tr>\n",
       "    <tr>\n",
       "      <th>16</th>\n",
       "      <td>job_unemployed</td>\n",
       "      <td>1.111537</td>\n",
       "    </tr>\n",
       "    <tr>\n",
       "      <th>3</th>\n",
       "      <td>campaign</td>\n",
       "      <td>1.018696</td>\n",
       "    </tr>\n",
       "    <tr>\n",
       "      <th>23</th>\n",
       "      <td>contact_telephone</td>\n",
       "      <td>1.006686</td>\n",
       "    </tr>\n",
       "    <tr>\n",
       "      <th>14</th>\n",
       "      <td>job_student</td>\n",
       "      <td>0.647728</td>\n",
       "    </tr>\n",
       "    <tr>\n",
       "      <th>5</th>\n",
       "      <td>previous</td>\n",
       "      <td>0.588770</td>\n",
       "    </tr>\n",
       "    <tr>\n",
       "      <th>18</th>\n",
       "      <td>marital_married</td>\n",
       "      <td>0.569948</td>\n",
       "    </tr>\n",
       "    <tr>\n",
       "      <th>26</th>\n",
       "      <td>poutcome_success</td>\n",
       "      <td>0.555900</td>\n",
       "    </tr>\n",
       "    <tr>\n",
       "      <th>1</th>\n",
       "      <td>balance</td>\n",
       "      <td>0.538946</td>\n",
       "    </tr>\n",
       "    <tr>\n",
       "      <th>4</th>\n",
       "      <td>pdays</td>\n",
       "      <td>0.534294</td>\n",
       "    </tr>\n",
       "    <tr>\n",
       "      <th>8</th>\n",
       "      <td>job_entrepreneur</td>\n",
       "      <td>0.430828</td>\n",
       "    </tr>\n",
       "    <tr>\n",
       "      <th>9</th>\n",
       "      <td>job_housemaid</td>\n",
       "      <td>0.423953</td>\n",
       "    </tr>\n",
       "    <tr>\n",
       "      <th>22</th>\n",
       "      <td>loan_yes</td>\n",
       "      <td>0.385621</td>\n",
       "    </tr>\n",
       "    <tr>\n",
       "      <th>6</th>\n",
       "      <td>week</td>\n",
       "      <td>0.329929</td>\n",
       "    </tr>\n",
       "    <tr>\n",
       "      <th>7</th>\n",
       "      <td>job_blue-collar</td>\n",
       "      <td>0.283720</td>\n",
       "    </tr>\n",
       "    <tr>\n",
       "      <th>25</th>\n",
       "      <td>poutcome_other</td>\n",
       "      <td>0.175327</td>\n",
       "    </tr>\n",
       "    <tr>\n",
       "      <th>0</th>\n",
       "      <td>age</td>\n",
       "      <td>0.156060</td>\n",
       "    </tr>\n",
       "    <tr>\n",
       "      <th>13</th>\n",
       "      <td>job_services</td>\n",
       "      <td>0.072874</td>\n",
       "    </tr>\n",
       "    <tr>\n",
       "      <th>12</th>\n",
       "      <td>job_self-employed</td>\n",
       "      <td>-0.014970</td>\n",
       "    </tr>\n",
       "    <tr>\n",
       "      <th>11</th>\n",
       "      <td>job_retired</td>\n",
       "      <td>-0.392971</td>\n",
       "    </tr>\n",
       "    <tr>\n",
       "      <th>28</th>\n",
       "      <td>education</td>\n",
       "      <td>-0.408192</td>\n",
       "    </tr>\n",
       "    <tr>\n",
       "      <th>10</th>\n",
       "      <td>job_management</td>\n",
       "      <td>-0.412938</td>\n",
       "    </tr>\n",
       "    <tr>\n",
       "      <th>19</th>\n",
       "      <td>marital_single</td>\n",
       "      <td>-0.451457</td>\n",
       "    </tr>\n",
       "    <tr>\n",
       "      <th>27</th>\n",
       "      <td>poutcome_unknown</td>\n",
       "      <td>-0.571862</td>\n",
       "    </tr>\n",
       "    <tr>\n",
       "      <th>2</th>\n",
       "      <td>duration</td>\n",
       "      <td>-0.652148</td>\n",
       "    </tr>\n",
       "    <tr>\n",
       "      <th>29</th>\n",
       "      <td>month</td>\n",
       "      <td>-0.879546</td>\n",
       "    </tr>\n",
       "    <tr>\n",
       "      <th>15</th>\n",
       "      <td>job_technician</td>\n",
       "      <td>-0.986879</td>\n",
       "    </tr>\n",
       "    <tr>\n",
       "      <th>21</th>\n",
       "      <td>housing_yes</td>\n",
       "      <td>-1.111470</td>\n",
       "    </tr>\n",
       "    <tr>\n",
       "      <th>24</th>\n",
       "      <td>contact_unknown</td>\n",
       "      <td>-1.178776</td>\n",
       "    </tr>\n",
       "  </tbody>\n",
       "</table>\n",
       "</div>"
      ],
      "text/plain": [
       "            Variables    Values\n",
       "20        default_yes  2.315854\n",
       "17        job_unknown  1.337913\n",
       "16     job_unemployed  1.111537\n",
       "3            campaign  1.018696\n",
       "23  contact_telephone  1.006686\n",
       "14        job_student  0.647728\n",
       "5            previous  0.588770\n",
       "18    marital_married  0.569948\n",
       "26   poutcome_success  0.555900\n",
       "1             balance  0.538946\n",
       "4               pdays  0.534294\n",
       "8    job_entrepreneur  0.430828\n",
       "9       job_housemaid  0.423953\n",
       "22           loan_yes  0.385621\n",
       "6                week  0.329929\n",
       "7     job_blue-collar  0.283720\n",
       "25     poutcome_other  0.175327\n",
       "0                 age  0.156060\n",
       "13       job_services  0.072874\n",
       "12  job_self-employed -0.014970\n",
       "11        job_retired -0.392971\n",
       "28          education -0.408192\n",
       "10     job_management -0.412938\n",
       "19     marital_single -0.451457\n",
       "27   poutcome_unknown -0.571862\n",
       "2            duration -0.652148\n",
       "29              month -0.879546\n",
       "15     job_technician -0.986879\n",
       "21        housing_yes -1.111470\n",
       "24    contact_unknown -1.178776"
      ]
     },
     "execution_count": 95,
     "metadata": {},
     "output_type": "execute_result"
    }
   ],
   "source": [
    "pca_columns = []\n",
    "for i in range(19):\n",
    "    pca_columns.append('PC' + str(i+1))\n",
    "org_var = pd.DataFrame(pca_model.components_, index = pca_columns, columns = df_train_scaled.columns)\n",
    "values = []\n",
    "for i in org_var.columns:\n",
    "    values.append(org_var[i].sum())\n",
    "dep_var = pd.DataFrame()\n",
    "dep_var['Variables'] = df_train_scaled.columns\n",
    "dep_var['Values'] = values\n",
    "dep_var.sort_values(by = 'Values', ascending = False)"
   ]
  },
  {
   "cell_type": "code",
   "execution_count": null,
   "metadata": {},
   "outputs": [],
   "source": []
  }
 ],
 "metadata": {
  "kernelspec": {
   "display_name": "Python 3",
   "language": "python",
   "name": "python3"
  },
  "language_info": {
   "codemirror_mode": {
    "name": "ipython",
    "version": 3
   },
   "file_extension": ".py",
   "mimetype": "text/x-python",
   "name": "python",
   "nbconvert_exporter": "python",
   "pygments_lexer": "ipython3",
   "version": "3.7.6"
  }
 },
 "nbformat": 4,
 "nbformat_minor": 4
}
